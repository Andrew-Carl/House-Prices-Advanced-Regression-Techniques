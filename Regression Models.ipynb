{
    "nbformat_minor": 1, 
    "cells": [
        {
            "execution_count": 1, 
            "cell_type": "code", 
            "metadata": {}, 
            "outputs": [], 
            "source": "# The code was removed by Watson Studio for sharing."
        }, 
        {
            "execution_count": 2, 
            "cell_type": "code", 
            "metadata": {}, 
            "outputs": [], 
            "source": "import pandas as pd\nimport numpy as np\n\nfrom sklearn import datasets, linear_model\nfrom sklearn.model_selection import cross_val_score, train_test_split\nfrom sklearn.preprocessing import StandardScaler\nfrom sklearn.linear_model import LinearRegression, RidgeCV, LassoCV, ElasticNetCV\nfrom sklearn.metrics import mean_squared_error, make_scorer\nfrom scipy.stats import skew\nfrom IPython.display import display\nimport matplotlib.pyplot as plt\nimport seaborn as sns\n\nimport types\nimport pandas as pd\nfrom ibm_botocore.client import Config\nimport ibm_boto3\n\nimport warnings\nimport types\nwarnings.filterwarnings('ignore')\n\n%matplotlib inline"
        }, 
        {
            "execution_count": 3, 
            "cell_type": "code", 
            "metadata": {}, 
            "outputs": [
                {
                    "execution_count": 3, 
                    "metadata": {}, 
                    "data": {
                        "text/html": "<div>\n<style scoped>\n    .dataframe tbody tr th:only-of-type {\n        vertical-align: middle;\n    }\n\n    .dataframe tbody tr th {\n        vertical-align: top;\n    }\n\n    .dataframe thead th {\n        text-align: right;\n    }\n</style>\n<table border=\"1\" class=\"dataframe\">\n  <thead>\n    <tr style=\"text-align: right;\">\n      <th></th>\n      <th>Id</th>\n      <th>MSSubClass</th>\n      <th>LotFrontage</th>\n      <th>LotArea</th>\n      <th>Street</th>\n      <th>Alley</th>\n      <th>LandSlope</th>\n      <th>OverallQual</th>\n      <th>OverallCond</th>\n      <th>YearBuilt</th>\n      <th>...</th>\n      <th>Heating_OthW.1</th>\n      <th>Heating_Wall.1</th>\n      <th>Fence_GdWo</th>\n      <th>Fence_MnPrv</th>\n      <th>Fence_MnWw</th>\n      <th>Fence_None</th>\n      <th>MiscFeature_None</th>\n      <th>MiscFeature_Othr</th>\n      <th>MiscFeature_Shed</th>\n      <th>MiscFeature_TenC</th>\n    </tr>\n  </thead>\n  <tbody>\n    <tr>\n      <th>0</th>\n      <td>1</td>\n      <td>60</td>\n      <td>65.0</td>\n      <td>8450</td>\n      <td>1</td>\n      <td>1</td>\n      <td>0</td>\n      <td>7</td>\n      <td>5</td>\n      <td>2003</td>\n      <td>...</td>\n      <td>0</td>\n      <td>0</td>\n      <td>0</td>\n      <td>0</td>\n      <td>0</td>\n      <td>1</td>\n      <td>1</td>\n      <td>0</td>\n      <td>0</td>\n      <td>0</td>\n    </tr>\n    <tr>\n      <th>1</th>\n      <td>2</td>\n      <td>20</td>\n      <td>80.0</td>\n      <td>9600</td>\n      <td>1</td>\n      <td>1</td>\n      <td>0</td>\n      <td>6</td>\n      <td>8</td>\n      <td>1976</td>\n      <td>...</td>\n      <td>0</td>\n      <td>0</td>\n      <td>0</td>\n      <td>0</td>\n      <td>0</td>\n      <td>1</td>\n      <td>1</td>\n      <td>0</td>\n      <td>0</td>\n      <td>0</td>\n    </tr>\n    <tr>\n      <th>2</th>\n      <td>3</td>\n      <td>60</td>\n      <td>68.0</td>\n      <td>11250</td>\n      <td>1</td>\n      <td>1</td>\n      <td>0</td>\n      <td>7</td>\n      <td>5</td>\n      <td>2001</td>\n      <td>...</td>\n      <td>0</td>\n      <td>0</td>\n      <td>0</td>\n      <td>0</td>\n      <td>0</td>\n      <td>1</td>\n      <td>1</td>\n      <td>0</td>\n      <td>0</td>\n      <td>0</td>\n    </tr>\n    <tr>\n      <th>3</th>\n      <td>4</td>\n      <td>70</td>\n      <td>60.0</td>\n      <td>9550</td>\n      <td>1</td>\n      <td>1</td>\n      <td>0</td>\n      <td>7</td>\n      <td>5</td>\n      <td>1915</td>\n      <td>...</td>\n      <td>0</td>\n      <td>0</td>\n      <td>0</td>\n      <td>0</td>\n      <td>0</td>\n      <td>1</td>\n      <td>1</td>\n      <td>0</td>\n      <td>0</td>\n      <td>0</td>\n    </tr>\n    <tr>\n      <th>4</th>\n      <td>5</td>\n      <td>60</td>\n      <td>84.0</td>\n      <td>14260</td>\n      <td>1</td>\n      <td>1</td>\n      <td>0</td>\n      <td>8</td>\n      <td>5</td>\n      <td>2000</td>\n      <td>...</td>\n      <td>0</td>\n      <td>0</td>\n      <td>0</td>\n      <td>0</td>\n      <td>0</td>\n      <td>1</td>\n      <td>1</td>\n      <td>0</td>\n      <td>0</td>\n      <td>0</td>\n    </tr>\n  </tbody>\n</table>\n<p>5 rows \u00d7 231 columns</p>\n</div>", 
                        "text/plain": "   Id  MSSubClass  LotFrontage  LotArea  Street  Alley  LandSlope  \\\n0   1          60         65.0     8450       1      1          0   \n1   2          20         80.0     9600       1      1          0   \n2   3          60         68.0    11250       1      1          0   \n3   4          70         60.0     9550       1      1          0   \n4   5          60         84.0    14260       1      1          0   \n\n   OverallQual  OverallCond  YearBuilt        ...         Heating_OthW.1  \\\n0            7            5       2003        ...                      0   \n1            6            8       1976        ...                      0   \n2            7            5       2001        ...                      0   \n3            7            5       1915        ...                      0   \n4            8            5       2000        ...                      0   \n\n   Heating_Wall.1  Fence_GdWo  Fence_MnPrv  Fence_MnWw  Fence_None  \\\n0               0           0            0           0           1   \n1               0           0            0           0           1   \n2               0           0            0           0           1   \n3               0           0            0           0           1   \n4               0           0            0           0           1   \n\n   MiscFeature_None  MiscFeature_Othr  MiscFeature_Shed  MiscFeature_TenC  \n0                 1                 0                 0                 0  \n1                 1                 0                 0                 0  \n2                 1                 0                 0                 0  \n3                 1                 0                 0                 0  \n4                 1                 0                 0                 0  \n\n[5 rows x 231 columns]"
                    }, 
                    "output_type": "execute_result"
                }
            ], 
            "source": "# The code was removed by Watson Studio for sharing."
        }, 
        {
            "source": "# Linear Regression", 
            "cell_type": "markdown", 
            "metadata": {}
        }, 
        {
            "execution_count": 4, 
            "cell_type": "code", 
            "metadata": {}, 
            "outputs": [], 
            "source": "X = df.drop(['Id', 'SalePrice'], axis=1)\ny = df['SalePrice']"
        }, 
        {
            "execution_count": 5, 
            "cell_type": "code", 
            "metadata": {}, 
            "outputs": [], 
            "source": "X_train, X_test, y_train, y_test = train_test_split(X, y, test_size=0.3, random_state=0)"
        }, 
        {
            "execution_count": 6, 
            "cell_type": "code", 
            "metadata": {}, 
            "outputs": [
                {
                    "output_type": "stream", 
                    "name": "stdout", 
                    "text": "X_train :  (1020, 229)\nX_test :  (438, 229)\ny_train :  (1020,)\ny_test :  (438,)\n"
                }
            ], 
            "source": "print('X_train : ', X_train.shape)\nprint('X_test : ', X_test.shape)\nprint('y_train : ', y_train.shape)\nprint('y_test : ', y_test.shape)"
        }, 
        {
            "execution_count": 7, 
            "cell_type": "code", 
            "metadata": {}, 
            "outputs": [], 
            "source": "sc = StandardScaler()"
        }, 
        {
            "execution_count": 8, 
            "cell_type": "code", 
            "metadata": {}, 
            "outputs": [
                {
                    "execution_count": 8, 
                    "metadata": {}, 
                    "data": {
                        "text/plain": "array([[-0.86824345, -0.48720324, -0.20627038, ..., -0.04432422,\n        -0.20979104,  0.        ],\n       [-0.13894755, -0.8634825 , -0.42118407, ..., -0.04432422,\n        -0.20979104,  0.        ],\n       [ 0.46879903, -0.8634825 ,  0.13307735, ..., -0.04432422,\n        -0.20979104,  0.        ],\n       ..., \n       [-0.86824345,  0.07721564, -0.18566222, ..., -0.04432422,\n        -0.20979104,  0.        ],\n       [-0.86824345,  0.03018073,  0.079398  , ..., -0.04432422,\n        -0.20979104,  0.        ],\n       [ 2.5351374 , -0.41665088, -0.53678605, ..., -0.04432422,\n        -0.20979104,  0.        ]])"
                    }, 
                    "output_type": "execute_result"
                }
            ], 
            "source": "sc.fit_transform(X_train)"
        }, 
        {
            "execution_count": 9, 
            "cell_type": "code", 
            "metadata": {}, 
            "outputs": [
                {
                    "execution_count": 9, 
                    "metadata": {}, 
                    "data": {
                        "text/plain": "array([[ 2.90852057,  1.40985582,  2.69826127, ...,  0.        ,\n        -0.11785113, -0.04783649],\n       [-0.88427175,  0.63367937,  0.01414651, ...,  0.        ,\n        -0.11785113, -0.04783649],\n       [ 0.67746626,  0.17710499, -0.19367021, ...,  0.        ,\n        -0.11785113, -0.04783649],\n       ..., \n       [ 0.00814997,  0.22276243, -0.27121377, ...,  0.        ,\n        -0.11785113, -0.04783649],\n       [ 0.2312554 , -0.18815451,  0.15594044, ...,  0.        ,\n        -0.11785113, -0.04783649],\n       [-0.88427175, -0.18815451, -0.24008557, ...,  0.        ,\n        -0.11785113, -0.04783649]])"
                    }, 
                    "output_type": "execute_result"
                }
            ], 
            "source": "sc.fit_transform(X_test)"
        }, 
        {
            "execution_count": 10, 
            "cell_type": "code", 
            "metadata": {}, 
            "outputs": [], 
            "source": "# Error measure for RMSE scoring.\nscorer = make_scorer(mean_squared_error, greater_is_better = False)"
        }, 
        {
            "execution_count": 15, 
            "cell_type": "code", 
            "metadata": {}, 
            "outputs": [], 
            "source": "def rmse_cv_train(model):\n    rmse = np.sqrt(-cross_val_score(model, X_train, y_train, scoring = scorer, cv = 10))\n    return(rmse)"
        }, 
        {
            "execution_count": 16, 
            "cell_type": "code", 
            "metadata": {}, 
            "outputs": [], 
            "source": "def rmse_cv_test(model):\n    rmse = np.sqrt(-cross_val_score(model, X_train, y_train, scoring = scorer, cv = 10))\n    return(rmse)"
        }, 
        {
            "execution_count": 13, 
            "cell_type": "code", 
            "metadata": {}, 
            "outputs": [], 
            "source": "lm = linear_model.LinearRegression()\nmodel = lm.fit(X_train, y_train)"
        }, 
        {
            "execution_count": null, 
            "cell_type": "code", 
            "metadata": {}, 
            "outputs": [
                {
                    "output_type": "stream", 
                    "name": "stdout", 
                    "text": "RMSE on Training set : 0.126013606296\n"
                }
            ], 
            "source": "# Linear Regression\nlr = LinearRegression()\nlr.fit(X_train, y_train)\n\n# Look at predictions on training and validation set\nprint(\"RMSE on Training set :\", rmse_cv_train(lr).mean())\nprint(\"RMSE on Test set :\", rmse_cv_test(lr).mean())\ny_train_pred = lr.predict(X_train)\ny_test_pred = lr.predict(X_test)\n\n# Plot residuals\nplt.scatter(y_train_pred, y_train_pred - y_train, c = \"blue\", marker = \"s\", label = \"Training data\")\nplt.scatter(y_test_pred, y_test_pred - y_test, c = \"lightgreen\", marker = \"s\", label = \"Validation data\")\nplt.title(\"Linear regression\")\nplt.xlabel(\"Predicted values\")\nplt.ylabel(\"Residuals\")\nplt.legend(loc = \"upper left\")\nplt.hlines(y = 0, xmin = 10.5, xmax = 13.5, color = \"red\")\nplt.show()\n\n# Plot predictions\nplt.scatter(y_train_pred, y_train, c = \"blue\", marker = \"s\", label = \"Training data\")\nplt.scatter(y_test_pred, y_test, c = \"lightgreen\", marker = \"s\", label = \"Validation data\")\nplt.title(\"Linear regression\")\nplt.xlabel(\"Predicted values\")\nplt.ylabel(\"Real values\")\nplt.legend(loc = \"upper left\")\nplt.plot([10.5, 13.5], [10.5, 13.5], c = \"red\")\nplt.show()"
        }, 
        {
            "execution_count": null, 
            "cell_type": "code", 
            "metadata": {}, 
            "outputs": [], 
            "source": ""
        }
    ], 
    "metadata": {
        "kernelspec": {
            "display_name": "Python 3.5", 
            "name": "python3", 
            "language": "python"
        }, 
        "language_info": {
            "mimetype": "text/x-python", 
            "nbconvert_exporter": "python", 
            "version": "3.5.5", 
            "name": "python", 
            "file_extension": ".py", 
            "pygments_lexer": "ipython3", 
            "codemirror_mode": {
                "version": 3, 
                "name": "ipython"
            }
        }
    }, 
    "nbformat": 4
}