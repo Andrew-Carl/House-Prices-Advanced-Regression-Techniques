{
    "nbformat_minor": 1, 
    "cells": [
        {
            "source": "# Cleaning the Test Data", 
            "cell_type": "markdown", 
            "metadata": {
                "collapsed": true
            }
        }, 
        {
            "source": "- I'm just going to quick clean up the test data that same way I did for the training data to be used later to make my predictions and submissiions. ", 
            "cell_type": "markdown", 
            "metadata": {}
        }, 
        {
            "execution_count": 26, 
            "cell_type": "code", 
            "metadata": {}, 
            "outputs": [], 
            "source": "# The code was removed by Watson Studio for sharing."
        }, 
        {
            "execution_count": 27, 
            "cell_type": "code", 
            "metadata": {}, 
            "outputs": [], 
            "source": "import pandas as pd\nfrom pandas.api.types import is_string_dtype, is_numeric_dtype\nimport numpy as np\nimport matplotlib.pyplot as plt\nimport seaborn as sns\nfrom scipy.stats import norm\nfrom scipy import stats\nfrom sklearn.preprocessing import LabelEncoder, OneHotEncoder\n\nimport warnings\nimport types\nfrom ibm_botocore.client import Config\nimport ibm_boto3\n\nwarnings.filterwarnings('ignore')\n\n%matplotlib inline"
        }, 
        {
            "execution_count": 28, 
            "cell_type": "code", 
            "metadata": {}, 
            "outputs": [
                {
                    "execution_count": 28, 
                    "metadata": {}, 
                    "data": {
                        "text/html": "<div>\n<style scoped>\n    .dataframe tbody tr th:only-of-type {\n        vertical-align: middle;\n    }\n\n    .dataframe tbody tr th {\n        vertical-align: top;\n    }\n\n    .dataframe thead th {\n        text-align: right;\n    }\n</style>\n<table border=\"1\" class=\"dataframe\">\n  <thead>\n    <tr style=\"text-align: right;\">\n      <th></th>\n      <th>Id</th>\n      <th>MSSubClass</th>\n      <th>MSZoning</th>\n      <th>LotFrontage</th>\n      <th>LotArea</th>\n      <th>Street</th>\n      <th>Alley</th>\n      <th>LotShape</th>\n      <th>LandContour</th>\n      <th>Utilities</th>\n      <th>...</th>\n      <th>ScreenPorch</th>\n      <th>PoolArea</th>\n      <th>PoolQC</th>\n      <th>Fence</th>\n      <th>MiscFeature</th>\n      <th>MiscVal</th>\n      <th>MoSold</th>\n      <th>YrSold</th>\n      <th>SaleType</th>\n      <th>SaleCondition</th>\n    </tr>\n  </thead>\n  <tbody>\n    <tr>\n      <th>0</th>\n      <td>1461</td>\n      <td>20</td>\n      <td>RH</td>\n      <td>80.0</td>\n      <td>11622</td>\n      <td>Pave</td>\n      <td>NaN</td>\n      <td>Reg</td>\n      <td>Lvl</td>\n      <td>AllPub</td>\n      <td>...</td>\n      <td>120</td>\n      <td>0</td>\n      <td>NaN</td>\n      <td>MnPrv</td>\n      <td>NaN</td>\n      <td>0</td>\n      <td>6</td>\n      <td>2010</td>\n      <td>WD</td>\n      <td>Normal</td>\n    </tr>\n    <tr>\n      <th>1</th>\n      <td>1462</td>\n      <td>20</td>\n      <td>RL</td>\n      <td>81.0</td>\n      <td>14267</td>\n      <td>Pave</td>\n      <td>NaN</td>\n      <td>IR1</td>\n      <td>Lvl</td>\n      <td>AllPub</td>\n      <td>...</td>\n      <td>0</td>\n      <td>0</td>\n      <td>NaN</td>\n      <td>NaN</td>\n      <td>Gar2</td>\n      <td>12500</td>\n      <td>6</td>\n      <td>2010</td>\n      <td>WD</td>\n      <td>Normal</td>\n    </tr>\n    <tr>\n      <th>2</th>\n      <td>1463</td>\n      <td>60</td>\n      <td>RL</td>\n      <td>74.0</td>\n      <td>13830</td>\n      <td>Pave</td>\n      <td>NaN</td>\n      <td>IR1</td>\n      <td>Lvl</td>\n      <td>AllPub</td>\n      <td>...</td>\n      <td>0</td>\n      <td>0</td>\n      <td>NaN</td>\n      <td>MnPrv</td>\n      <td>NaN</td>\n      <td>0</td>\n      <td>3</td>\n      <td>2010</td>\n      <td>WD</td>\n      <td>Normal</td>\n    </tr>\n    <tr>\n      <th>3</th>\n      <td>1464</td>\n      <td>60</td>\n      <td>RL</td>\n      <td>78.0</td>\n      <td>9978</td>\n      <td>Pave</td>\n      <td>NaN</td>\n      <td>IR1</td>\n      <td>Lvl</td>\n      <td>AllPub</td>\n      <td>...</td>\n      <td>0</td>\n      <td>0</td>\n      <td>NaN</td>\n      <td>NaN</td>\n      <td>NaN</td>\n      <td>0</td>\n      <td>6</td>\n      <td>2010</td>\n      <td>WD</td>\n      <td>Normal</td>\n    </tr>\n    <tr>\n      <th>4</th>\n      <td>1465</td>\n      <td>120</td>\n      <td>RL</td>\n      <td>43.0</td>\n      <td>5005</td>\n      <td>Pave</td>\n      <td>NaN</td>\n      <td>IR1</td>\n      <td>HLS</td>\n      <td>AllPub</td>\n      <td>...</td>\n      <td>144</td>\n      <td>0</td>\n      <td>NaN</td>\n      <td>NaN</td>\n      <td>NaN</td>\n      <td>0</td>\n      <td>1</td>\n      <td>2010</td>\n      <td>WD</td>\n      <td>Normal</td>\n    </tr>\n  </tbody>\n</table>\n<p>5 rows \u00d7 80 columns</p>\n</div>", 
                        "text/plain": "     Id  MSSubClass MSZoning  LotFrontage  LotArea Street Alley LotShape  \\\n0  1461          20       RH         80.0    11622   Pave   NaN      Reg   \n1  1462          20       RL         81.0    14267   Pave   NaN      IR1   \n2  1463          60       RL         74.0    13830   Pave   NaN      IR1   \n3  1464          60       RL         78.0     9978   Pave   NaN      IR1   \n4  1465         120       RL         43.0     5005   Pave   NaN      IR1   \n\n  LandContour Utilities      ...       ScreenPorch PoolArea PoolQC  Fence  \\\n0         Lvl    AllPub      ...               120        0    NaN  MnPrv   \n1         Lvl    AllPub      ...                 0        0    NaN    NaN   \n2         Lvl    AllPub      ...                 0        0    NaN  MnPrv   \n3         Lvl    AllPub      ...                 0        0    NaN    NaN   \n4         HLS    AllPub      ...               144        0    NaN    NaN   \n\n  MiscFeature MiscVal MoSold  YrSold  SaleType  SaleCondition  \n0         NaN       0      6    2010        WD         Normal  \n1        Gar2   12500      6    2010        WD         Normal  \n2         NaN       0      3    2010        WD         Normal  \n3         NaN       0      6    2010        WD         Normal  \n4         NaN       0      1    2010        WD         Normal  \n\n[5 rows x 80 columns]"
                    }, 
                    "output_type": "execute_result"
                }
            ], 
            "source": "# The code was removed by Watson Studio for sharing."
        }, 
        {
            "execution_count": 29, 
            "cell_type": "code", 
            "metadata": {}, 
            "outputs": [
                {
                    "execution_count": 29, 
                    "metadata": {}, 
                    "data": {
                        "text/plain": "(1459, 80)"
                    }, 
                    "output_type": "execute_result"
                }
            ], 
            "source": "df.shape"
        }, 
        {
            "execution_count": 30, 
            "cell_type": "code", 
            "metadata": {}, 
            "outputs": [], 
            "source": "# Change YearBuilt into decades in order to plot it out easier\n\ndef construction_decade(row):\n    if row['YearBuilt'] >= 1870 and row['YearBuilt'] < 1880:\n        return '1870'\n    elif row['YearBuilt'] >= 1880 and row['YearBuilt'] < 1890:\n        return '1880'\n    elif row['YearBuilt'] >= 1890 and row['YearBuilt'] < 1900:\n        return '1890'\n    elif row['YearBuilt'] >= 1900 and row['YearBuilt'] < 1910:\n        return '1900'\n    elif row['YearBuilt'] >= 1910 and row['YearBuilt'] < 1920:\n        return '1910'\n    elif row['YearBuilt'] >= 1920 and row['YearBuilt'] < 1930:\n        return '1920'\n    elif row['YearBuilt'] >= 1930 and row['YearBuilt'] < 1940:\n        return '1930'\n    elif row['YearBuilt'] >= 1940 and row['YearBuilt'] < 1950:\n        return '1940'\n    elif row['YearBuilt'] >= 1950 and row['YearBuilt'] < 1960:\n        return '1950'\n    elif row['YearBuilt'] >= 1960 and row['YearBuilt'] < 1970:\n        return '1960'\n    elif row['YearBuilt'] >= 1970 and row['YearBuilt'] < 1980:\n        return '1970'\n    elif row['YearBuilt'] >= 1980 and row['YearBuilt'] < 1990:\n        return '1980'\n    elif row['YearBuilt'] >= 1990 and row['YearBuilt'] < 2000:\n        return '1990'\n    elif row['YearBuilt'] >= 2000 and row['YearBuilt']:\n        return '2000'\n    else:\n        return '0'\n    \ndf['DecadeBuilt'] = df.apply(lambda row: construction_decade(row), axis=1)"
        }, 
        {
            "execution_count": 31, 
            "cell_type": "code", 
            "metadata": {}, 
            "outputs": [
                {
                    "execution_count": 31, 
                    "metadata": {}, 
                    "data": {
                        "text/plain": "0    1960\n1    1950\n2    1990\n3    1990\n4    1990\nName: DecadeBuilt, dtype: object"
                    }, 
                    "output_type": "execute_result"
                }
            ], 
            "source": "df['DecadeBuilt'].head()"
        }, 
        {
            "source": "## Fix Any Missing Data", 
            "cell_type": "markdown", 
            "metadata": {}
        }, 
        {
            "execution_count": 32, 
            "cell_type": "code", 
            "metadata": {}, 
            "outputs": [
                {
                    "execution_count": 32, 
                    "metadata": {}, 
                    "data": {
                        "text/html": "<div>\n<style scoped>\n    .dataframe tbody tr th:only-of-type {\n        vertical-align: middle;\n    }\n\n    .dataframe tbody tr th {\n        vertical-align: top;\n    }\n\n    .dataframe thead th {\n        text-align: right;\n    }\n</style>\n<table border=\"1\" class=\"dataframe\">\n  <thead>\n    <tr style=\"text-align: right;\">\n      <th></th>\n      <th>Total</th>\n      <th>Percent</th>\n    </tr>\n  </thead>\n  <tbody>\n    <tr>\n      <th>PoolQC</th>\n      <td>1456</td>\n      <td>0.997944</td>\n    </tr>\n    <tr>\n      <th>MiscFeature</th>\n      <td>1408</td>\n      <td>0.965045</td>\n    </tr>\n    <tr>\n      <th>Alley</th>\n      <td>1352</td>\n      <td>0.926662</td>\n    </tr>\n    <tr>\n      <th>Fence</th>\n      <td>1169</td>\n      <td>0.801234</td>\n    </tr>\n    <tr>\n      <th>FireplaceQu</th>\n      <td>730</td>\n      <td>0.500343</td>\n    </tr>\n    <tr>\n      <th>LotFrontage</th>\n      <td>227</td>\n      <td>0.155586</td>\n    </tr>\n    <tr>\n      <th>GarageFinish</th>\n      <td>78</td>\n      <td>0.053461</td>\n    </tr>\n    <tr>\n      <th>GarageYrBlt</th>\n      <td>78</td>\n      <td>0.053461</td>\n    </tr>\n    <tr>\n      <th>GarageCond</th>\n      <td>78</td>\n      <td>0.053461</td>\n    </tr>\n    <tr>\n      <th>GarageQual</th>\n      <td>78</td>\n      <td>0.053461</td>\n    </tr>\n    <tr>\n      <th>GarageType</th>\n      <td>76</td>\n      <td>0.052090</td>\n    </tr>\n    <tr>\n      <th>BsmtCond</th>\n      <td>45</td>\n      <td>0.030843</td>\n    </tr>\n    <tr>\n      <th>BsmtQual</th>\n      <td>44</td>\n      <td>0.030158</td>\n    </tr>\n    <tr>\n      <th>BsmtExposure</th>\n      <td>44</td>\n      <td>0.030158</td>\n    </tr>\n    <tr>\n      <th>BsmtFinType2</th>\n      <td>42</td>\n      <td>0.028787</td>\n    </tr>\n    <tr>\n      <th>BsmtFinType1</th>\n      <td>42</td>\n      <td>0.028787</td>\n    </tr>\n    <tr>\n      <th>MasVnrType</th>\n      <td>16</td>\n      <td>0.010966</td>\n    </tr>\n    <tr>\n      <th>MasVnrArea</th>\n      <td>15</td>\n      <td>0.010281</td>\n    </tr>\n    <tr>\n      <th>MSZoning</th>\n      <td>4</td>\n      <td>0.002742</td>\n    </tr>\n    <tr>\n      <th>BsmtHalfBath</th>\n      <td>2</td>\n      <td>0.001371</td>\n    </tr>\n  </tbody>\n</table>\n</div>", 
                        "text/plain": "              Total   Percent\nPoolQC         1456  0.997944\nMiscFeature    1408  0.965045\nAlley          1352  0.926662\nFence          1169  0.801234\nFireplaceQu     730  0.500343\nLotFrontage     227  0.155586\nGarageFinish     78  0.053461\nGarageYrBlt      78  0.053461\nGarageCond       78  0.053461\nGarageQual       78  0.053461\nGarageType       76  0.052090\nBsmtCond         45  0.030843\nBsmtQual         44  0.030158\nBsmtExposure     44  0.030158\nBsmtFinType2     42  0.028787\nBsmtFinType1     42  0.028787\nMasVnrType       16  0.010966\nMasVnrArea       15  0.010281\nMSZoning          4  0.002742\nBsmtHalfBath      2  0.001371"
                    }, 
                    "output_type": "execute_result"
                }
            ], 
            "source": "# Find the percentage of missing values in each column\ntotal = df.isnull().sum().sort_values(ascending=False)\npercent = (df.isnull().sum()/df.isnull().count()).sort_values(ascending=False)\nmissing_data = pd.concat([total, percent], axis=1, keys=['Total', 'Percent'])\nmissing_data.head(20)"
        }, 
        {
            "execution_count": 33, 
            "cell_type": "code", 
            "metadata": {}, 
            "outputs": [
                {
                    "execution_count": 33, 
                    "metadata": {}, 
                    "data": {
                        "text/plain": "0      0\n1    108\n2      0\n3     20\n4      0\nName: MasVnrArea, dtype: int64"
                    }, 
                    "output_type": "execute_result"
                }
            ], 
            "source": "# Fill in NaN values with \"None\" od \"0\"\ndf['PoolQC'].fillna('None', inplace=True)\ndf['MiscFeature'].fillna('None', inplace=True)\ndf['Alley'].fillna('None', inplace=True)\ndf['Fence'].fillna('None', inplace=True)\ndf['FireplaceQu'].fillna('None', inplace=True)\ndf['GarageYrBlt'].fillna('0', inplace=True)\ndf['BsmtExposure'].fillna('No', inplace=True)\ndf['MasVnrArea'].fillna('0', inplace=True)\ndf['MasVnrType'].fillna('None', inplace=True)\ndf['MasVnrArea'].astype('int', inplace=True).head()"
        }, 
        {
            "execution_count": 34, 
            "cell_type": "code", 
            "metadata": {}, 
            "outputs": [], 
            "source": "# All NAN values in these 4 garage variables infers there is no garage. Change NAN to None. \nfor col in ('GarageQual', 'GarageType', 'GarageCond', 'GarageFinish', 'GarageType'):\n    df[col] = df[col].fillna('None')\n    \n# Basement variables with 'NAN' most likey don't have basements. Change NAN to None.\nfor col in ('BsmtFinType2','BsmtQual','BsmtCond','BsmtFinType1'):\n    df[col] = df[col].fillna('None')"
        }, 
        {
            "execution_count": 35, 
            "cell_type": "code", 
            "metadata": {}, 
            "outputs": [], 
            "source": "# NA values must be actual missing data. Group by neighborhood and impute the median LotFrontage.\ndf['LotFrontage'] = df.groupby('Neighborhood')['LotFrontage'].transform(lambda x: x.fillna(x.median()))\n\n# Fill the missing value with the mode.\ndf['Electrical'].fillna(df['Electrical'].mode()[0], inplace=True)"
        }, 
        {
            "execution_count": 36, 
            "cell_type": "code", 
            "metadata": {}, 
            "outputs": [
                {
                    "execution_count": 36, 
                    "metadata": {}, 
                    "data": {
                        "text/html": "<div>\n<style scoped>\n    .dataframe tbody tr th:only-of-type {\n        vertical-align: middle;\n    }\n\n    .dataframe tbody tr th {\n        vertical-align: top;\n    }\n\n    .dataframe thead th {\n        text-align: right;\n    }\n</style>\n<table border=\"1\" class=\"dataframe\">\n  <thead>\n    <tr style=\"text-align: right;\">\n      <th></th>\n      <th>Total</th>\n      <th>Percent</th>\n    </tr>\n  </thead>\n  <tbody>\n    <tr>\n      <th>MSZoning</th>\n      <td>4</td>\n      <td>0.002742</td>\n    </tr>\n    <tr>\n      <th>Functional</th>\n      <td>2</td>\n      <td>0.001371</td>\n    </tr>\n    <tr>\n      <th>Utilities</th>\n      <td>2</td>\n      <td>0.001371</td>\n    </tr>\n    <tr>\n      <th>BsmtHalfBath</th>\n      <td>2</td>\n      <td>0.001371</td>\n    </tr>\n    <tr>\n      <th>BsmtFullBath</th>\n      <td>2</td>\n      <td>0.001371</td>\n    </tr>\n    <tr>\n      <th>KitchenQual</th>\n      <td>1</td>\n      <td>0.000685</td>\n    </tr>\n    <tr>\n      <th>BsmtFinSF1</th>\n      <td>1</td>\n      <td>0.000685</td>\n    </tr>\n    <tr>\n      <th>Exterior1st</th>\n      <td>1</td>\n      <td>0.000685</td>\n    </tr>\n    <tr>\n      <th>Exterior2nd</th>\n      <td>1</td>\n      <td>0.000685</td>\n    </tr>\n    <tr>\n      <th>GarageCars</th>\n      <td>1</td>\n      <td>0.000685</td>\n    </tr>\n    <tr>\n      <th>GarageArea</th>\n      <td>1</td>\n      <td>0.000685</td>\n    </tr>\n    <tr>\n      <th>BsmtFinSF2</th>\n      <td>1</td>\n      <td>0.000685</td>\n    </tr>\n    <tr>\n      <th>TotalBsmtSF</th>\n      <td>1</td>\n      <td>0.000685</td>\n    </tr>\n    <tr>\n      <th>BsmtUnfSF</th>\n      <td>1</td>\n      <td>0.000685</td>\n    </tr>\n    <tr>\n      <th>SaleType</th>\n      <td>1</td>\n      <td>0.000685</td>\n    </tr>\n    <tr>\n      <th>ExterCond</th>\n      <td>0</td>\n      <td>0.000000</td>\n    </tr>\n    <tr>\n      <th>RoofStyle</th>\n      <td>0</td>\n      <td>0.000000</td>\n    </tr>\n    <tr>\n      <th>MasVnrArea</th>\n      <td>0</td>\n      <td>0.000000</td>\n    </tr>\n    <tr>\n      <th>Foundation</th>\n      <td>0</td>\n      <td>0.000000</td>\n    </tr>\n    <tr>\n      <th>BsmtQual</th>\n      <td>0</td>\n      <td>0.000000</td>\n    </tr>\n  </tbody>\n</table>\n</div>", 
                        "text/plain": "              Total   Percent\nMSZoning          4  0.002742\nFunctional        2  0.001371\nUtilities         2  0.001371\nBsmtHalfBath      2  0.001371\nBsmtFullBath      2  0.001371\nKitchenQual       1  0.000685\nBsmtFinSF1        1  0.000685\nExterior1st       1  0.000685\nExterior2nd       1  0.000685\nGarageCars        1  0.000685\nGarageArea        1  0.000685\nBsmtFinSF2        1  0.000685\nTotalBsmtSF       1  0.000685\nBsmtUnfSF         1  0.000685\nSaleType          1  0.000685\nExterCond         0  0.000000\nRoofStyle         0  0.000000\nMasVnrArea        0  0.000000\nFoundation        0  0.000000\nBsmtQual          0  0.000000"
                    }, 
                    "output_type": "execute_result"
                }
            ], 
            "source": "# Check to make sure there are no missing values left.\ntotal = df.isnull().sum().sort_values(ascending=False)\npercent = (df.isnull().sum()/df.isnull().count()).sort_values(ascending=False)\nmissing_data = pd.concat([total, percent], axis=1, keys=['Total', 'Percent'])\nmissing_data.head(20)"
        }, 
        {
            "source": "### There are 15 more columns with NaN values in the Test data then there was in the Training data. I'll have to go through all of these columns now.", 
            "cell_type": "markdown", 
            "metadata": {}
        }, 
        {
            "source": "#### MSZoning", 
            "cell_type": "markdown", 
            "metadata": {}
        }, 
        {
            "execution_count": 37, 
            "cell_type": "code", 
            "metadata": {}, 
            "outputs": [
                {
                    "execution_count": 37, 
                    "metadata": {}, 
                    "data": {
                        "text/plain": "array(['RH', 'RL', 'RM', 'FV', 'C (all)', nan], dtype=object)"
                    }, 
                    "output_type": "execute_result"
                }
            ], 
            "source": "# Find the unique values\ndf['MSZoning'].unique()"
        }, 
        {
            "execution_count": 38, 
            "cell_type": "code", 
            "metadata": {}, 
            "outputs": [], 
            "source": "# Fill in NaN values with \"None\"\ndf['MSZoning'].fillna('None', inplace=True)"
        }, 
        {
            "execution_count": 39, 
            "cell_type": "code", 
            "metadata": {}, 
            "outputs": [
                {
                    "execution_count": 39, 
                    "metadata": {}, 
                    "data": {
                        "text/plain": "array(['RH', 'RL', 'RM', 'FV', 'C (all)', 'None'], dtype=object)"
                    }, 
                    "output_type": "execute_result"
                }
            ], 
            "source": "# Check\ndf['MSZoning'].unique()"
        }, 
        {
            "source": "#### Functional", 
            "cell_type": "markdown", 
            "metadata": {}
        }, 
        {
            "execution_count": 40, 
            "cell_type": "code", 
            "metadata": {}, 
            "outputs": [
                {
                    "execution_count": 40, 
                    "metadata": {}, 
                    "data": {
                        "text/plain": "array(['Typ', 'Min2', 'Min1', 'Mod', 'Maj1', 'Sev', 'Maj2', nan], dtype=object)"
                    }, 
                    "output_type": "execute_result"
                }
            ], 
            "source": "df['Functional'].unique()"
        }, 
        {
            "execution_count": 41, 
            "cell_type": "code", 
            "metadata": {}, 
            "outputs": [], 
            "source": "# Fill NaN with \"None\"\ndf['Functional'].fillna('None', inplace=True)"
        }, 
        {
            "execution_count": 42, 
            "cell_type": "code", 
            "metadata": {}, 
            "outputs": [
                {
                    "execution_count": 42, 
                    "metadata": {}, 
                    "data": {
                        "text/plain": "array(['Typ', 'Min2', 'Min1', 'Mod', 'Maj1', 'Sev', 'Maj2', 'None'], dtype=object)"
                    }, 
                    "output_type": "execute_result"
                }
            ], 
            "source": "#Check\ndf['Functional'].unique()"
        }, 
        {
            "source": "#### Utilities", 
            "cell_type": "markdown", 
            "metadata": {}
        }, 
        {
            "execution_count": 43, 
            "cell_type": "code", 
            "metadata": {}, 
            "outputs": [
                {
                    "execution_count": 43, 
                    "metadata": {}, 
                    "data": {
                        "text/plain": "array(['AllPub', nan], dtype=object)"
                    }, 
                    "output_type": "execute_result"
                }
            ], 
            "source": "df['Utilities'].unique()"
        }, 
        {
            "execution_count": 44, 
            "cell_type": "code", 
            "metadata": {}, 
            "outputs": [], 
            "source": "# Fill NaN with 'NonPub'\ndf['Utilities'].fillna('NonPub', inplace=True)"
        }, 
        {
            "execution_count": 45, 
            "cell_type": "code", 
            "metadata": {}, 
            "outputs": [
                {
                    "execution_count": 45, 
                    "metadata": {}, 
                    "data": {
                        "text/plain": "array(['AllPub', 'NonPub'], dtype=object)"
                    }, 
                    "output_type": "execute_result"
                }
            ], 
            "source": "# Check.\ndf['Utilities'].unique()"
        }, 
        {
            "source": "#### BsmtHalfBath", 
            "cell_type": "markdown", 
            "metadata": {}
        }, 
        {
            "execution_count": 46, 
            "cell_type": "code", 
            "metadata": {}, 
            "outputs": [
                {
                    "execution_count": 46, 
                    "metadata": {}, 
                    "data": {
                        "text/plain": "array([  0.,   1.,  nan,   2.])"
                    }, 
                    "output_type": "execute_result"
                }
            ], 
            "source": "df['BsmtHalfBath'].unique()"
        }, 
        {
            "execution_count": 47, 
            "cell_type": "code", 
            "metadata": {}, 
            "outputs": [], 
            "source": "# Fill NaN values with '0'\ndf['BsmtHalfBath'].fillna('0', inplace=True)"
        }, 
        {
            "execution_count": 53, 
            "cell_type": "code", 
            "metadata": {}, 
            "outputs": [], 
            "source": "# Change dtype from a float to an integer.\ndf['BsmtHalfBath'] = df['BsmtHalfBath'].astype('int', inplace=True)"
        }, 
        {
            "execution_count": 54, 
            "cell_type": "code", 
            "metadata": {}, 
            "outputs": [
                {
                    "execution_count": 54, 
                    "metadata": {}, 
                    "data": {
                        "text/plain": "array([0, 1, 2])"
                    }, 
                    "output_type": "execute_result"
                }
            ], 
            "source": "df['BsmtHalfBath'].unique()"
        }, 
        {
            "source": "#### BsmtFullBath", 
            "cell_type": "markdown", 
            "metadata": {}
        }, 
        {
            "execution_count": 55, 
            "cell_type": "code", 
            "metadata": {}, 
            "outputs": [
                {
                    "execution_count": 55, 
                    "metadata": {}, 
                    "data": {
                        "text/plain": "array([  0.,   1.,   2.,   3.,  nan])"
                    }, 
                    "output_type": "execute_result"
                }
            ], 
            "source": "df['BsmtFullBath'].unique()"
        }, 
        {
            "execution_count": 56, 
            "cell_type": "code", 
            "metadata": {}, 
            "outputs": [], 
            "source": "# FIll NaN with '0'\ndf['BsmtFullBath'].fillna('0', inplace=True)"
        }, 
        {
            "execution_count": 57, 
            "cell_type": "code", 
            "metadata": {}, 
            "outputs": [], 
            "source": "# Change dtype from a float to an integer\ndf['BsmtFullBath'] = df['BsmtFullBath'].astype('int', inplace=True)"
        }, 
        {
            "execution_count": 58, 
            "cell_type": "code", 
            "metadata": {}, 
            "outputs": [
                {
                    "execution_count": 58, 
                    "metadata": {}, 
                    "data": {
                        "text/plain": "array([0, 1, 2, 3])"
                    }, 
                    "output_type": "execute_result"
                }
            ], 
            "source": "df['BsmtFullBath'].unique()"
        }, 
        {
            "source": "#### KitchenQual", 
            "cell_type": "markdown", 
            "metadata": {}
        }, 
        {
            "execution_count": 59, 
            "cell_type": "code", 
            "metadata": {}, 
            "outputs": [
                {
                    "execution_count": 59, 
                    "metadata": {}, 
                    "data": {
                        "text/plain": "array(['TA', 'Gd', 'Ex', 'Fa', nan], dtype=object)"
                    }, 
                    "output_type": "execute_result"
                }
            ], 
            "source": "df['KitchenQual'].unique()"
        }, 
        {
            "execution_count": 65, 
            "cell_type": "code", 
            "metadata": {}, 
            "outputs": [], 
            "source": "# Fill NaN values with 'None'\ndf['KitchenQual'].fillna('None', inplace=True)"
        }, 
        {
            "execution_count": 66, 
            "cell_type": "code", 
            "metadata": {}, 
            "outputs": [
                {
                    "execution_count": 66, 
                    "metadata": {}, 
                    "data": {
                        "text/plain": "array(['TA', 'Gd', 'Ex', 'Fa', 'None'], dtype=object)"
                    }, 
                    "output_type": "execute_result"
                }
            ], 
            "source": "# Check\ndf['KitchenQual'].unique()"
        }, 
        {
            "source": "#### BsmtFinSF1", 
            "cell_type": "markdown", 
            "metadata": {}
        }, 
        {
            "execution_count": 77, 
            "cell_type": "code", 
            "metadata": {}, 
            "outputs": [
                {
                    "execution_count": 77, 
                    "metadata": {}, 
                    "data": {
                        "text/plain": "array([  468.,   923.,   791.,   602.,   263.,     0.,   935.,   637.,\n         804.,  1051.,   156.,   300.,   514.,   110.,    28.,  1373.,\n         578.,    24.,    16.,   326.,  1414.,   126.,   250.,  1129.,\n        1298.,   280.,   368.,   376.,   466.,   244.,  1032.,   484.,\n         833.,   506.,  1137.,   687.,   329.,   698.,  1059.,  1010.,\n        1500.,   670.,   944.,  1188.,   856.,   936.,   734.,   339.,\n         648.,   532.,   481.,   588.,   717.,    48.,   579.,   274.,\n         780.,   176.,   283.,   788.,   474.,   188.,   452.,   264.,\n         360.,   276.,   448.,   960.,   766.,  1026.,    73.,   736.,\n         704.,   240.,   775.,  1319.,   267.,  1092.,   964.,   288.,\n         104.,   192.,   954.,  1346.,  1433.,   860.,   870.,   353.,\n         198.,   480.,  1682.,   672.,  1070.,   528.,   133.,   238.,\n         426.,   375.,   343.,   747.,    76.,   308.,   615.,   679.,\n          78.,    42.,   915.,   294.,   469.,   207.,   458.,   476.,\n        1341.,   564.,   844.,   847.,   850.,   284.,  1965.,   341.,\n         741.,   189.,   600.,   400.,   363.,   832.,   622.,   225.,\n        1333.,   888.,   636.,   500.,   726.,   254.,   306.,   435.,\n         389.,   320.,   279.,   536.,   644.,  1360.,   986.,  1232.,\n        2288.,  1531.,  1230.,  1015.,  1037.,  1142.,  1262.,  1972.,\n         836.,   881.,   876.,  2146.,  1557.,   800.,  1196.,   652.,\n         494.,   651.,   241.,   683.,   913.,  1173.,   236.,   816.,\n         624.,  1294.,   379.,  2158.,   682.,  1430.,   771.,   410.,\n          54.,   516.,    52.,    36.,   331.,    68.,   660.,   864.,\n         544.,   140.,  1733.,   601.,   962.,   507.,   549.,  1252.,\n         121.,   560.,   553.,   955.,   432.,   403.,   625.,   310.,\n         998.,   388.,   568.,   100.,  1312.,  1387.,   708.,   172.,\n         155.,   490.,   700.,   931.,   699.,   390.,   384.,   872.,\n         745.,   546.,   621.,   630.,   433.,   120.,   941.,   826.,\n         633.,   421.,   220.,   273.,   134.,   522.,   169.,   749.,\n        1200.,  1152.,   527.,   456.,   257.,   342.,   173.,   552.,\n         460.,    70.,  1094.,   820.,  1021.,  1104.,  1359.,   902.,\n         755.,   950.,   606.,  1259.,   710.,  1234.,  1246.,  1111.,\n        1478.,   399.,   547.,   332.,  1078.,   626.,   728.,   793.,\n         246.,   154.,    65.,   312.,   784.,   471.,   454.,   803.,\n        1476.,   445.,   767.,   841.,    55.,  1758.,  1115.,   462.,\n         904.,  1640.,   594.,   720.,   114.,   718.,   330.,   496.,\n         706.,   851.,   138.,   450.,   656.,   504.,   319.,  1337.,\n        1034.,   983.,  1206.,   890.,   988.,  1023.,   252.,   119.,\n         483.,   350.,   286.,   378.,  1012.,  1728.,  1375.,  1420.,\n        1082.,  1249.,    40.,  2257.,  1149.,  1075.,   372.,    20.,\n        1204.,   846.,  1073.,  1087.,  1660.,   228.,  1096.,   729.,\n         666.,    80.,   362.,   537.,   472.,   397.,    53.,   764.,\n         489.,   190.,   520.,   550.,  1027.,  1004.,  1141.,   681.,\n         612.,   813.,   128.,  1044.,   828.,   301.,   603.,   732.,\n         260.,   583.,   658.,    32.,   531.,   575.,  1053.,   958.,\n         774.,   148.,   744.,   697.,   315.,   673.,   370.,    96.,\n         590.,   116.,   234.,   200.,   406.,   175.,   521.,   201.,\n          nan,   203.,   196.,   758.,   221.,  1300.,   634.,   776.,\n         336.,   599.,  1035.,   324.,   779.,  1271.,   355.,  2085.,\n        1153.,   770.,   262.,   722.,  1308.,   688.,   663.,   781.,\n          88.,  1194.,  1538.,   662.,  1593.,    56.,   609.,  1033.,\n         224.,   281.,   210.,  1116.,   366.,   299.,  1474.,  1383.,\n         893.,  1036.,   920.,  1029.,  1223.,  1011.,  1571.,  1309.,\n         865.,   769.,   318.,   501.,   437.,   785.,   358.,   534.,\n         638.,   647.,   838.,   186.,   871.,   414.,   248.,   926.,\n        1101.,  1047.,   797.,  1558.,   256.,   321.,  1328.,   903.,\n         492.,   566.,    81.,   314.,   930.,   632.,   725.,  1151.,\n        1518.,  1304.,  1812.,  1684.,   778.,   938.,   669.,  1178.,\n         866.,  1030.,   762.,   848.,  1000.,   918.,  1084.,   574.,\n        1181.,  1048.,   335.,  1225.,  1220.,  1572.,   812.,   727.,\n         787.,   968.,    60.,   937.,   565.,   417.,   901.,   457.,\n        1732.,  1632.,   973.,   910.,   346.,   819.,   792.,   617.,\n         438.,   311.,   654.,  1386.,   130.,   144.,   150.,   873.,\n         908.,   668.,   512.,   408.,   441.,    85.,   595.,   292.,\n         242.,   952.,   739.,  1098.,   782.,   122.,   168.,   259.,\n         316.,   317.,   351.,   354.,   485.,   925.,   513.,   249.,\n         748.,   216.,   386.,   258.,   587.,   491.,   453.,   557.,\n        1080.,   497.,   608.,    51.,   539.,   420.,   502.,   671.,\n         385.,  1412.,  1198.,   709.,   132.,   611.,  4010.,   467.,\n          77.,   371.,   113.,   533.,   540.,   577.,   434.,   548.,\n         967.,   737.,  1573.,  1001.,   585.,  1392.,  1239.,   924.,\n         949.,   215.,  1329.,   503.,  1148.,  1112.,   796.,   811.,\n        1090.,   596.,   773.,  1127.,  1110.,   705.,  1218.,   205.,\n        1191.,  1416.,  1005.,   951.,   402.,   282.,   382.,   373.,\n        1369.,  1505.,  1290.,   880.,   994.,   415.,  1038.,   505.,\n        1182.,   380.,   247.,  1562.,  1836.,   278.,   554.,   162.,\n         181.,   712.,   659.,  1118.,   361.,   760.,   799.,   996.,\n         486.,   939.,   623.,   678.,   914.,   824.,   271.,   488.,\n        1018.,   338.,   580.,   701.,   455.,   809.,   953.,   381.,\n         208.,   143.,   576.,   416.,   347.,   510.,   194.,   794.,\n         810.,   535.,   230.,   425.,   261.,   393.,  1576.,  1122.,\n         853.,   894.,   509.,   639.,   685.,   976.,   475.,   691.,\n         424.,   305.,   646.,   526.,   374.,  1564.,   909.,  1136.,\n        1350.,  1455.,  1243.,   149.,  1224.,   337.])"
                    }, 
                    "output_type": "execute_result"
                }
            ], 
            "source": "df['BsmtFinSF1'].unique()"
        }, 
        {
            "execution_count": 79, 
            "cell_type": "code", 
            "metadata": {}, 
            "outputs": [], 
            "source": "# Fill NaN value with '0'\ndf['BsmtFinSF1'].fillna('0', inplace=True)"
        }, 
        {
            "execution_count": 80, 
            "cell_type": "code", 
            "metadata": {}, 
            "outputs": [], 
            "source": "# CHange from a float to an integer\ndf['BsmtFinSF1'] = df['BsmtFinSF1'].astype('int', inplace=True)"
        }, 
        {
            "execution_count": 81, 
            "cell_type": "code", 
            "metadata": {}, 
            "outputs": [
                {
                    "execution_count": 81, 
                    "metadata": {}, 
                    "data": {
                        "text/plain": "array([ 468,  923,  791,  602,  263,    0,  935,  637,  804, 1051,  156,\n        300,  514,  110,   28, 1373,  578,   24,   16,  326, 1414,  126,\n        250, 1129, 1298,  280,  368,  376,  466,  244, 1032,  484,  833,\n        506, 1137,  687,  329,  698, 1059, 1010, 1500,  670,  944, 1188,\n        856,  936,  734,  339,  648,  532,  481,  588,  717,   48,  579,\n        274,  780,  176,  283,  788,  474,  188,  452,  264,  360,  276,\n        448,  960,  766, 1026,   73,  736,  704,  240,  775, 1319,  267,\n       1092,  964,  288,  104,  192,  954, 1346, 1433,  860,  870,  353,\n        198,  480, 1682,  672, 1070,  528,  133,  238,  426,  375,  343,\n        747,   76,  308,  615,  679,   78,   42,  915,  294,  469,  207,\n        458,  476, 1341,  564,  844,  847,  850,  284, 1965,  341,  741,\n        189,  600,  400,  363,  832,  622,  225, 1333,  888,  636,  500,\n        726,  254,  306,  435,  389,  320,  279,  536,  644, 1360,  986,\n       1232, 2288, 1531, 1230, 1015, 1037, 1142, 1262, 1972,  836,  881,\n        876, 2146, 1557,  800, 1196,  652,  494,  651,  241,  683,  913,\n       1173,  236,  816,  624, 1294,  379, 2158,  682, 1430,  771,  410,\n         54,  516,   52,   36,  331,   68,  660,  864,  544,  140, 1733,\n        601,  962,  507,  549, 1252,  121,  560,  553,  955,  432,  403,\n        625,  310,  998,  388,  568,  100, 1312, 1387,  708,  172,  155,\n        490,  700,  931,  699,  390,  384,  872,  745,  546,  621,  630,\n        433,  120,  941,  826,  633,  421,  220,  273,  134,  522,  169,\n        749, 1200, 1152,  527,  456,  257,  342,  173,  552,  460,   70,\n       1094,  820, 1021, 1104, 1359,  902,  755,  950,  606, 1259,  710,\n       1234, 1246, 1111, 1478,  399,  547,  332, 1078,  626,  728,  793,\n        246,  154,   65,  312,  784,  471,  454,  803, 1476,  445,  767,\n        841,   55, 1758, 1115,  462,  904, 1640,  594,  720,  114,  718,\n        330,  496,  706,  851,  138,  450,  656,  504,  319, 1337, 1034,\n        983, 1206,  890,  988, 1023,  252,  119,  483,  350,  286,  378,\n       1012, 1728, 1375, 1420, 1082, 1249,   40, 2257, 1149, 1075,  372,\n         20, 1204,  846, 1073, 1087, 1660,  228, 1096,  729,  666,   80,\n        362,  537,  472,  397,   53,  764,  489,  190,  520,  550, 1027,\n       1004, 1141,  681,  612,  813,  128, 1044,  828,  301,  603,  732,\n        260,  583,  658,   32,  531,  575, 1053,  958,  774,  148,  744,\n        697,  315,  673,  370,   96,  590,  116,  234,  200,  406,  175,\n        521,  201,  203,  196,  758,  221, 1300,  634,  776,  336,  599,\n       1035,  324,  779, 1271,  355, 2085, 1153,  770,  262,  722, 1308,\n        688,  663,  781,   88, 1194, 1538,  662, 1593,   56,  609, 1033,\n        224,  281,  210, 1116,  366,  299, 1474, 1383,  893, 1036,  920,\n       1029, 1223, 1011, 1571, 1309,  865,  769,  318,  501,  437,  785,\n        358,  534,  638,  647,  838,  186,  871,  414,  248,  926, 1101,\n       1047,  797, 1558,  256,  321, 1328,  903,  492,  566,   81,  314,\n        930,  632,  725, 1151, 1518, 1304, 1812, 1684,  778,  938,  669,\n       1178,  866, 1030,  762,  848, 1000,  918, 1084,  574, 1181, 1048,\n        335, 1225, 1220, 1572,  812,  727,  787,  968,   60,  937,  565,\n        417,  901,  457, 1732, 1632,  973,  910,  346,  819,  792,  617,\n        438,  311,  654, 1386,  130,  144,  150,  873,  908,  668,  512,\n        408,  441,   85,  595,  292,  242,  952,  739, 1098,  782,  122,\n        168,  259,  316,  317,  351,  354,  485,  925,  513,  249,  748,\n        216,  386,  258,  587,  491,  453,  557, 1080,  497,  608,   51,\n        539,  420,  502,  671,  385, 1412, 1198,  709,  132,  611, 4010,\n        467,   77,  371,  113,  533,  540,  577,  434,  548,  967,  737,\n       1573, 1001,  585, 1392, 1239,  924,  949,  215, 1329,  503, 1148,\n       1112,  796,  811, 1090,  596,  773, 1127, 1110,  705, 1218,  205,\n       1191, 1416, 1005,  951,  402,  282,  382,  373, 1369, 1505, 1290,\n        880,  994,  415, 1038,  505, 1182,  380,  247, 1562, 1836,  278,\n        554,  162,  181,  712,  659, 1118,  361,  760,  799,  996,  486,\n        939,  623,  678,  914,  824,  271,  488, 1018,  338,  580,  701,\n        455,  809,  953,  381,  208,  143,  576,  416,  347,  510,  194,\n        794,  810,  535,  230,  425,  261,  393, 1576, 1122,  853,  894,\n        509,  639,  685,  976,  475,  691,  424,  305,  646,  526,  374,\n       1564,  909, 1136, 1350, 1455, 1243,  149, 1224,  337])"
                    }, 
                    "output_type": "execute_result"
                }
            ], 
            "source": "# Check\ndf['BsmtFinSF1'].unique()"
        }, 
        {
            "source": "#### TotalBsmtSF\t", 
            "cell_type": "markdown", 
            "metadata": {}
        }, 
        {
            "execution_count": 83, 
            "cell_type": "code", 
            "metadata": {}, 
            "outputs": [
                {
                    "execution_count": 83, 
                    "metadata": {}, 
                    "data": {
                        "text/plain": "array([  882.,  1329.,   928.,   926.,  1280.,   763.,  1168.,   789.,\n        1300.,  1405.,   483.,   525.,   855.,   836.,  1590.,  1544.,\n        1698.,  1822.,  2846.,  1671.,  1370.,  1324.,  1145.,   384.,\n         847.,  1629.,  1595.,  1218.,  1468.,   831.,   816.,  1208.,\n        1231.,  1390.,  1488.,   840.,   600.,   756.,   530.,  1642.,\n         975.,  1492.,  1829.,  1224.,   715.,  1232.,  1209.,  1510.,\n         533.,  1728.,  1140.,   782.,  1080.,  1604.,  1480.,  1143.,\n        1206.,  1244.,   832.,   864.,   972.,   988.,   576.,  1175.,\n        1395.,   709.,   936.,  1347.,   827.,  1027.,  1008.,   678.,\n         930.,   346.,   738.,  1108.,   765.,   608.,   572.,   835.,\n         780.,   528.,  1124.,   888.,   662.,  1422.,   689.,  1212.,\n         707.,   856.,  1832.,  1319.,   720.,  1420.,   660.,  1117.,\n         663.,  1172.,  1508.,  1250.,  1433.,   946.,  1222.,   676.,\n         870.,   878.,  1026.,   876.,  1978.,  1040.,   848.,     0.,\n         381.,  1196.,   744.,   960.,  1107.,   894.,  1528.,  1032.,\n         423.,   982.,  1191.,   480.,   629.,  1594.,  1049.,  1243.,\n        1958.,  1336.,  1214.,  1068.,  1430.,  1344.,   945.,   546.,\n         833.,  1216.,   624.,  1679.,  1152.,  1434.,  2208.,  1418.,\n        1587.,   952.,  1181.,  1122.,  1427.,  1043.,  1058.,  1621.,\n        1116.,  1176.,  1180.,   804.,  1057.,  1776.,  1365.,  2020.,\n        2630.,  1736.,  1782.,  1739.,  1504.,  1774.,  1760.,  2452.,\n        1082.,  1598.,  1358.,  1306.,  1350.,  2492.,  2200.,  1884.,\n        1451.,  1712.,   728.,   745.,  1220.,   868.,   846.,   698.,\n         794.,  1177.,  1455.,  2024.,  1070.,  1173.,  1696.,  1614.,\n        1702.,  2458.,  1436.,  1402.,  1530.,  1372.,   900.,  1836.,\n        1652.,  1553.,   812.,  1141.,  1158.,  1512.,  1114.,  1450.,\n         913.,  1332.,   754.,   980.,  1024.,   912.,  2014.,  1376.,\n        1726.,   691.,  1694.,  1740.,   392.,   752.,   932.,  1288.,\n         908.,  1568.,  1165.,  1048.,  1313.,  1292.,  1680.,  1453.,\n        1562.,  1169.,  1202.,  1382.,  1200.,  1866.,  1062.,   631.,\n         793.,  1031.,   699.,   792.,   405.,  1054.,   560.,   416.,\n         630.,  1248.,  1380.,   951.,  1105.,   160.,   795.,  1041.,\n         732.,   941.,  1045.,   901.,   240.,   504.,   690.,   801.,\n         768.,   861.,   677.,   917.,   741.,   245.,  1022.,   297.,\n         468.,  1072.,   672.,  1020.,  1204.,   858.,   585.,  1052.,\n         456.,   552.,  1138.,   825.,  1073.,   747.,  1089.,   520.,\n        1079.,  1094.,  1555.,  1720.,  1838.,  1282.,  1254.,  1498.,\n         704.,  1449.,   990.,  1463.,  1431.,   907.,   914.,  1569.,\n         944.,  1462.,  1417.,  1578.,  1014.,   547.,  1078.,  1678.,\n        1150.,   583.,  1273.,   920.,  1112.,  1561.,  1067.,  1310.,\n         516.,   561.,  1803.,   760.,  1596.,   902.,   957.,  1582.,\n        2190.,  1641.,   712.,  1645.,  1188.,   796.,   828.,   784.,\n         680.,   916.,  1348.,  1664.,  1337.,  1632.,  1710.,  1675.,\n        1260.,  2048.,  1211.,  1444.,  1236.,   896.,  1055.,  2418.,\n        1950.,  1850.,  1620.,  1414.,   948.,  1148.,  2535.,  1603.,\n        1479.,  1765.,  1858.,  1367.,  1800.,  1342.,   764.,  1415.,\n        1393.,  1146.,  1037.,  1519.,  1982.,  1064.,  1242.,  1341.,\n         955.,  1460.,  1363.,  1660.,  1162.,   886.,   984.,   890.,\n        1001.,  1848.,  1235.,  1419.,  1557.,   970.,  1230.,   994.,\n        1426.,  1625.,  1118.,   348.,  1296.,  1036.,  1104.,   998.,\n        1824.,   892.,  1312.,  1081.,  1256.,   854.,   192.,   931.,\n         884.,   481.,   684.,   904.,   407.,   448.,   797.,   973.,\n         723.,   869.,   554.,   981.,   949.,   739.,   992.,   565.,\n          nan,   989.,  1100.,   810.,  1272.,   880.,   451.,   536.,\n        1046.,   450.,  1060.,  1524.,   570.,  1580.,  1509.,   621.,\n        1077.,  1602.,   628.,  1615.,  2271.,  1751.,  1401.,  1182.,\n        1076.,  1257.,  1357.,  1778.,  1129.,   850.,  1445.,  1564.,\n        1351.,  1092.,  1127.,  1029.,   911.,  1228.,   644.,   798.,\n         942.,  1091.,  1898.,  1151.,   173.,   356.,   592.,  1840.,\n         910.,  1277.,  1518.,   352.,  1495.,  1432.,  1666.,  1964.,\n        1189.,   550.,   526.,   462.,  1113.,   845.,   686.,   923.,\n         938.,   903.,  1302.,  1166.,  1149.,  2660.,  1612.,  2220.,\n        1742.,  1284.,   725.,  1529.,  1153.,  1259.,  1084.,   925.,\n        1061.,  1790.,  2108.,  1934.,  1994.,  2552.,  1704.,  2320.,\n         918.,  1802.,  1706.,  1317.,   895.,  1721.,  1298.,  1362.,\n        1554.,  1577.,  1326.,  1246.,  1406.,  1266.,   915.,  1779.,\n        1408.,  1389.,  1066.,  1325.,  1369.,  1542.,  1966.,  1538.,\n        1494.,  1338.,  1335.,  1574.,  1685.,  1461.,  1223.,  1044.,\n        1378.,  1511.,  1352.,  1550.,  1339.,  2002.,  2461.,  1295.,\n        1093.,   964.,  1174.,  1042.,  1130.,  1592.,   822.,   666.,\n         370.,   808.,  1560.,  1053.,  1144.,  1331.,   922.,  1190.,\n         924.,   736.,  1170.,  1377.,   967.,  1075.,   616.,   687.,\n         819.,   966.,   750.,   969.,   976.,   771.,  1005.,   943.,\n        1240.,   671.,   409.,   484.,  1038.,   779.,  1643.,  2140.,\n        1546.,  1489.,  1270.,   879.,   929.,   635.,  1097.,   853.,\n         985.,  1015.,   995.,   385.,  1673.,   979.,   860.,  1556.,\n        1531.,  1330.,  1088.,  1179.,   734.,  5095.,  1195.,  1290.,\n         651.,   531.,   851.,  1004.,   279.,   859.,   837.,  1573.,\n        1441.,  1409.,  1454.,   852.,  1501.,  1689.,  1265.,  1267.,\n        1922.,  1491.,  1160.,   716.,  1396.,  1090.,  1178.,  1617.,\n        1705.,  1851.,   813.,   781.,   821.,  1074.,  1700.,  2062.,\n        1398.,  1714.,  1910.,  1047.,   675.,  1103.,  1487.,   494.,\n        1069.,  1738.,  1618.,  1868.,  1606.,  1792.,  1780.,  1686.,\n        1368.,  1142.,  1035.,  1540.,  1733.,  1286.,  1670.,  1278.,\n        2036.,  1400.,  1131.,   891.,  1217.,   636.,  1748.,  1334.,\n         569.,  1051.,  1187.,  1251.,  1056.,  1584.,  1121.,  1050.,\n         216.,   301.,  2171.,   713.,  1083.,  1135.,  1438.,  1025.,\n        1147.,   502.,   844.,   492.,   770.,  1226.,   596.,   396.,\n         610.,   806.,  1921.,   830.,  1059.,  1967.,  1949.,   872.,\n        1865.,  1000.,   430.,   799.,  1308.,  1570.,  1388.,  1425.,\n         842.,   826.,  1065.,   954.,   498.,   755.,   818.,   824.,\n         817.,   637.,   697.,   432.,   641.,  1128.,  1381.,   264.,\n         996.])"
                    }, 
                    "output_type": "execute_result"
                }
            ], 
            "source": "df['TotalBsmtSF'].unique()"
        }, 
        {
            "execution_count": 84, 
            "cell_type": "code", 
            "metadata": {}, 
            "outputs": [], 
            "source": "df['TotalBsmtSF'].fillna('0', inplace=True)"
        }, 
        {
            "execution_count": 85, 
            "cell_type": "code", 
            "metadata": {}, 
            "outputs": [], 
            "source": "df['TotalBsmtSF'] = df['TotalBsmtSF'].astype('int', inplace=True)"
        }, 
        {
            "execution_count": 86, 
            "cell_type": "code", 
            "metadata": {}, 
            "outputs": [
                {
                    "execution_count": 86, 
                    "metadata": {}, 
                    "data": {
                        "text/plain": "array([ 882, 1329,  928,  926, 1280,  763, 1168,  789, 1300, 1405,  483,\n        525,  855,  836, 1590, 1544, 1698, 1822, 2846, 1671, 1370, 1324,\n       1145,  384,  847, 1629, 1595, 1218, 1468,  831,  816, 1208, 1231,\n       1390, 1488,  840,  600,  756,  530, 1642,  975, 1492, 1829, 1224,\n        715, 1232, 1209, 1510,  533, 1728, 1140,  782, 1080, 1604, 1480,\n       1143, 1206, 1244,  832,  864,  972,  988,  576, 1175, 1395,  709,\n        936, 1347,  827, 1027, 1008,  678,  930,  346,  738, 1108,  765,\n        608,  572,  835,  780,  528, 1124,  888,  662, 1422,  689, 1212,\n        707,  856, 1832, 1319,  720, 1420,  660, 1117,  663, 1172, 1508,\n       1250, 1433,  946, 1222,  676,  870,  878, 1026,  876, 1978, 1040,\n        848,    0,  381, 1196,  744,  960, 1107,  894, 1528, 1032,  423,\n        982, 1191,  480,  629, 1594, 1049, 1243, 1958, 1336, 1214, 1068,\n       1430, 1344,  945,  546,  833, 1216,  624, 1679, 1152, 1434, 2208,\n       1418, 1587,  952, 1181, 1122, 1427, 1043, 1058, 1621, 1116, 1176,\n       1180,  804, 1057, 1776, 1365, 2020, 2630, 1736, 1782, 1739, 1504,\n       1774, 1760, 2452, 1082, 1598, 1358, 1306, 1350, 2492, 2200, 1884,\n       1451, 1712,  728,  745, 1220,  868,  846,  698,  794, 1177, 1455,\n       2024, 1070, 1173, 1696, 1614, 1702, 2458, 1436, 1402, 1530, 1372,\n        900, 1836, 1652, 1553,  812, 1141, 1158, 1512, 1114, 1450,  913,\n       1332,  754,  980, 1024,  912, 2014, 1376, 1726,  691, 1694, 1740,\n        392,  752,  932, 1288,  908, 1568, 1165, 1048, 1313, 1292, 1680,\n       1453, 1562, 1169, 1202, 1382, 1200, 1866, 1062,  631,  793, 1031,\n        699,  792,  405, 1054,  560,  416,  630, 1248, 1380,  951, 1105,\n        160,  795, 1041,  732,  941, 1045,  901,  240,  504,  690,  801,\n        768,  861,  677,  917,  741,  245, 1022,  297,  468, 1072,  672,\n       1020, 1204,  858,  585, 1052,  456,  552, 1138,  825, 1073,  747,\n       1089,  520, 1079, 1094, 1555, 1720, 1838, 1282, 1254, 1498,  704,\n       1449,  990, 1463, 1431,  907,  914, 1569,  944, 1462, 1417, 1578,\n       1014,  547, 1078, 1678, 1150,  583, 1273,  920, 1112, 1561, 1067,\n       1310,  516,  561, 1803,  760, 1596,  902,  957, 1582, 2190, 1641,\n        712, 1645, 1188,  796,  828,  784,  680,  916, 1348, 1664, 1337,\n       1632, 1710, 1675, 1260, 2048, 1211, 1444, 1236,  896, 1055, 2418,\n       1950, 1850, 1620, 1414,  948, 1148, 2535, 1603, 1479, 1765, 1858,\n       1367, 1800, 1342,  764, 1415, 1393, 1146, 1037, 1519, 1982, 1064,\n       1242, 1341,  955, 1460, 1363, 1660, 1162,  886,  984,  890, 1001,\n       1848, 1235, 1419, 1557,  970, 1230,  994, 1426, 1625, 1118,  348,\n       1296, 1036, 1104,  998, 1824,  892, 1312, 1081, 1256,  854,  192,\n        931,  884,  481,  684,  904,  407,  448,  797,  973,  723,  869,\n        554,  981,  949,  739,  992,  565,  989, 1100,  810, 1272,  880,\n        451,  536, 1046,  450, 1060, 1524,  570, 1580, 1509,  621, 1077,\n       1602,  628, 1615, 2271, 1751, 1401, 1182, 1076, 1257, 1357, 1778,\n       1129,  850, 1445, 1564, 1351, 1092, 1127, 1029,  911, 1228,  644,\n        798,  942, 1091, 1898, 1151,  173,  356,  592, 1840,  910, 1277,\n       1518,  352, 1495, 1432, 1666, 1964, 1189,  550,  526,  462, 1113,\n        845,  686,  923,  938,  903, 1302, 1166, 1149, 2660, 1612, 2220,\n       1742, 1284,  725, 1529, 1153, 1259, 1084,  925, 1061, 1790, 2108,\n       1934, 1994, 2552, 1704, 2320,  918, 1802, 1706, 1317,  895, 1721,\n       1298, 1362, 1554, 1577, 1326, 1246, 1406, 1266,  915, 1779, 1408,\n       1389, 1066, 1325, 1369, 1542, 1966, 1538, 1494, 1338, 1335, 1574,\n       1685, 1461, 1223, 1044, 1378, 1511, 1352, 1550, 1339, 2002, 2461,\n       1295, 1093,  964, 1174, 1042, 1130, 1592,  822,  666,  370,  808,\n       1560, 1053, 1144, 1331,  922, 1190,  924,  736, 1170, 1377,  967,\n       1075,  616,  687,  819,  966,  750,  969,  976,  771, 1005,  943,\n       1240,  671,  409,  484, 1038,  779, 1643, 2140, 1546, 1489, 1270,\n        879,  929,  635, 1097,  853,  985, 1015,  995,  385, 1673,  979,\n        860, 1556, 1531, 1330, 1088, 1179,  734, 5095, 1195, 1290,  651,\n        531,  851, 1004,  279,  859,  837, 1573, 1441, 1409, 1454,  852,\n       1501, 1689, 1265, 1267, 1922, 1491, 1160,  716, 1396, 1090, 1178,\n       1617, 1705, 1851,  813,  781,  821, 1074, 1700, 2062, 1398, 1714,\n       1910, 1047,  675, 1103, 1487,  494, 1069, 1738, 1618, 1868, 1606,\n       1792, 1780, 1686, 1368, 1142, 1035, 1540, 1733, 1286, 1670, 1278,\n       2036, 1400, 1131,  891, 1217,  636, 1748, 1334,  569, 1051, 1187,\n       1251, 1056, 1584, 1121, 1050,  216,  301, 2171,  713, 1083, 1135,\n       1438, 1025, 1147,  502,  844,  492,  770, 1226,  596,  396,  610,\n        806, 1921,  830, 1059, 1967, 1949,  872, 1865, 1000,  430,  799,\n       1308, 1570, 1388, 1425,  842,  826, 1065,  954,  498,  755,  818,\n        824,  817,  637,  697,  432,  641, 1128, 1381,  264,  996])"
                    }, 
                    "output_type": "execute_result"
                }
            ], 
            "source": "# Check\ndf['TotalBsmtSF'].unique()"
        }, 
        {
            "source": "#### BsmtUnfSF", 
            "cell_type": "markdown", 
            "metadata": {}
        }, 
        {
            "execution_count": 87, 
            "cell_type": "code", 
            "metadata": {}, 
            "outputs": [
                {
                    "execution_count": 87, 
                    "metadata": {}, 
                    "data": {
                        "text/plain": "array([  270.,   406.,   137.,   324.,  1017.,   763.,   233.,   789.,\n         663.,     0.,   354.,   327.,   225.,   341.,   836.,  1590.,\n        1544.,  1588.,  1794.,  1473.,  1093.,  1346.,  1324.,  1129.,\n          58.,   847.,  1629.,  1595.,  1218.,    54.,   831.,   816.,\n         223.,   261.,   190.,   840.,   320.,   224.,   290.,   286.,\n         610.,   491.,   659.,  1323.,   143.,   386.,   534.,   150.,\n         500.,   533.,   228.,   470.,   482.,   136.,  1604.,   292.,\n         125.,   510.,   832.,   525.,   456.,   576.,   161.,   237.,\n         415.,   661.,   357.,   827.,   247.,   678.,   930.,   346.,\n         455.,   200.,   634.,   577.,   144.,   308.,   316.,   480.,\n         252.,   164.,   888.,   780.,   662.,   656.,   689.,   186.,\n         232.,   120.,  1128.,    89.,   328.,   660.,   153.,   172.,\n         564.,   218.,   162.,  1250.,    86.,  1198.,   676.,   140.,\n         396.,   296.,  1040.,   176.,   381.,   126.,   744.,   960.,\n         974.,   618.,   894.,   850.,   657.,    80.,   235.,  1115.,\n         321.,   756.,   221.,   434.,  1958.,  1258.,  1214.,   384.,\n        1026.,  1430.,  1344.,    30.,   370.,   546.,   395.,    36.,\n        1216.,   166.,   388.,   208.,   318.,   590.,    98.,   158.,\n         100.,   243.,  1077.,   846.,   195.,   476.,   107.,  1181.,\n         722.,  1064.,   441.,   304.,  1058.,   471.,   540.,  1180.,\n         543.,   138.,   624.,   229.,    79.,   498.,   466.,   484.,\n         300.,   220.,   416.,   379.,   788.,   342.,  1736.,   251.,\n         278.,   724.,   467.,   632.,  1082.,  1598.,   522.,   425.,\n         474.,   643.,  1084.,  1451.,   516.,  1405.,   728.,   745.,\n        1204.,   868.,   130.,   204.,   219.,   111.,   264.,   282.,\n         262.,   254.,   549.,  1696.,  1614.,   408.,  1043.,  1436.,\n        1402.,  1530.,  1348.,  1836.,   222.,   422.,   402.,  1087.,\n        1158.,   835.,  1114.,  1450.,   276.,   400.,  1332.,   122.,\n         345.,    28.,   288.,   182.,   189.,  1376.,  1726.,   183.,\n         249.,   142.,   306.,  1619.,   392.,   932.,   588.,   216.,\n        1568.,   160.,   461.,   265.,   294.,   356.,   640.,   613.,\n         507.,   141.,   175.,   313.,   785.,   280.,   565.,   727.,\n         295.,  1866.,   572.,   323.,    93.,   810.,   792.,   405.,\n        1054.,  1313.,   560.,   720.,   630.,  1248.,   996.,   108.,\n         206.,   559.,   174.,  1041.,   901.,   339.,   240.,   504.,\n         269.,   600.,   801.,   861.,   677.,   917.,   972.,   741.,\n         245.,  1022.,   297.,   248.,   679.,   938.,  1048.,   672.,\n         198.,   483.,   851.,    46.,   585.,   552.,   550.,   825.,\n         916.,   104.,   605.,   348.,   616.,  1468.,   479.,   380.,\n         382.,  1474.,   704.,   649.,   513.,   322.,   132.,   335.,\n        1068.,   944.,   462.,   608.,   615.,   301.,  1678.,   604.,\n          94.,   583.,   112.,   674.,   621.,    91.,    90.,   561.,\n         118.,   581.,   760.,   412.,   135.,  1527.,   432.,   526.,\n         250.,   117.,   912.,   338.,   594.,    75.,   778.,   898.,\n        1008.,  1280.,   332.,  1018.,  1152.,   547.,  1632.,  1488.,\n         692.,   469.,   273.,   738.,   440.,  1444.,   213.,   896.,\n         684.,    25.,   275.,   570.,   575.,   430.,   538.,   165.,\n         908.,   454.,   404.,  1765.,  1486.,  1347.,   596.,   496.,\n        1318.,   764.,  1146.,   438.,   707.,   167.,  1173.,  1519.,\n        1242.,  1341.,   226.,   794.,  1339.,  1660.,  1095.,  1162.,\n         284.,   355.,   439.,   375.,  1328.,  1211.,   210.,   194.,\n         587.,    72.,   177.,   147.,   584.,   952.,   599.,  1439.,\n         723.,  1625.,   196.,  1728.,   242.,   638.,   505.,   529.,\n         503.,   437.,   330.,   998.,  1824.,   747.,   892.,   168.,\n         675.,   444.,   188.,   453.,   936.,   181.,  1800.,   398.,\n        1117.,    96.,   680.,   828.,   931.,   481.,   459.,   407.,\n         448.,   797.,   508.,   739.,   784.,   869.,   329.,   849.,\n         554.,   460.,   949.,   475.,   992.,   497.,    nan,   449.,\n         897.,  1046.,   796.,   768.,  1272.,   880.,   647.,   451.,\n         536.,   197.,   234.,   852.,   326.,   212.,   925.,   545.,\n         639.,   298.,   331.,   457.,   628.,  1615.,   598.,   631.,\n         268.,   110.,   255.,    83.,   782.,   180.,  1257.,   163.,\n        1421.,  1508.,  1327.,   541.,   725.,  1228.,   336.,   884.,\n         591.,   397.,   555.,   367.,   520.,   821.,   173.,   592.,\n        1140.,   910.,   352.,  1495.,   403.,   443.,   873.,   393.,\n          35.,  1092.,   325.,    88.,   271.,   207.,   217.,   686.,\n         749.,    52.,   277.,  1168.,   903.,   752.,   918.,  1559.,\n          53.,   815.,  1028.,   201.,    22.,   372.,  1012.,   359.,\n         214.,  1337.,   423.,   263.,  1694.,  1108.,   740.,  1704.,\n         636.,  1582.,  1802.,  1706.,   436.,  1602.,  1298.,   272.,\n         729.,  1300.,   698.,  1246.,  1266.,    56.,   192.,  1510.,\n         941.,   736.,  1066.,   770.,  1369.,  1496.,   394.,  1528.,\n         769.,   716.,   982.,  1302.,  1314.,  1335.,  1574.,  1685.,\n        1100.,  1143.,   365.,  1461.,    76.,   527.,  1081.,  1550.,\n         179.,   319.,   385.,  1594.,   171.,   548.,   431.,   433.,\n         710.,  1560.,   191.,    63.,   765.,  1144.,   410.,   424.,\n         928.,   156.,   666.,    55.,   312.,   569.,   967.,   808.,\n        1075.,   667.,   371.,   819.,   809.,   966.,   750.,   969.,\n         366.,   771.,   717.,   187.,   635.,    20.,   420.,   231.,\n          95.,   109.,   486.,   935.,   411.,   951.,  1105.,  1643.,\n        2140.,  1526.,  1453.,  1270.,   879.,   472.,   646.,   215.,\n         845.,   501.,   399.,   102.,   193.,   860.,   683.,   333.,\n         426.,  1330.,   115.,  1179.,   123.,  1085.,  1195.,   238.,\n         971.,   285.,  1680.,   427.,  1262.,   279.,   311.,   957.,\n         106.,   856.,    17.,  1689.,   963.,   970.,   593.,  1491.,\n          27.,    48.,   185.,   490.,   595.,  1851.,   113.,   781.,\n        1074.,  1640.,  2062.,  1191.,   889.,   644.,  1390.,   523.,\n         494.,   945.,    42.,   127.,   363.,   369.,  1618.,  1721.,\n        1090.,  1209.,  1088.,  1251.,  1326.,  1052.,   767.,  1126.,\n         848.,  1035.,   253.,   655.,   358.,   742.,  1504.,  1254.,\n         858.,  1118.,  1400.,  1131.,   891.,    78.,   939.,   362.,\n         450.,   530.,   713.,   293.,    34.,   360.,  1404.,    60.,\n        1584.,   307.,   556.,    99.,   350.,   517.,   929.,   521.,\n        1153.,   715.,   802.,  1556.,   236.,   863.,   502.,   817.,\n         844.,   798.,  1226.,  1020.,   641.,   477.,  1921.,   830.,\n        1967.,  1466.,   872.,    33.,  1411.,  1057.,   532.,  1308.,\n         260.,  1558.,   535.,   579.,    57.,   170.,  1065.,   258.,\n         131.,   390.,   340.,  1150.,   864.,   128.,   818.,   299.,\n         637.,   697.,   671.,   487.,  1664.,   129.,   378.,   383.,\n          45.,  1503.])"
                    }, 
                    "output_type": "execute_result"
                }
            ], 
            "source": "df['BsmtUnfSF'].unique()"
        }, 
        {
            "execution_count": 88, 
            "cell_type": "code", 
            "metadata": {}, 
            "outputs": [], 
            "source": "df['BsmtUnfSF'].fillna('0', inplace=True)"
        }, 
        {
            "execution_count": 89, 
            "cell_type": "code", 
            "metadata": {}, 
            "outputs": [], 
            "source": "df['BsmtUnfSF'] = df['BsmtUnfSF'].astype('int', inplace=True)"
        }, 
        {
            "execution_count": 90, 
            "cell_type": "code", 
            "metadata": {}, 
            "outputs": [
                {
                    "execution_count": 90, 
                    "metadata": {}, 
                    "data": {
                        "text/plain": "array([ 270,  406,  137,  324, 1017,  763,  233,  789,  663,    0,  354,\n        327,  225,  341,  836, 1590, 1544, 1588, 1794, 1473, 1093, 1346,\n       1324, 1129,   58,  847, 1629, 1595, 1218,   54,  831,  816,  223,\n        261,  190,  840,  320,  224,  290,  286,  610,  491,  659, 1323,\n        143,  386,  534,  150,  500,  533,  228,  470,  482,  136, 1604,\n        292,  125,  510,  832,  525,  456,  576,  161,  237,  415,  661,\n        357,  827,  247,  678,  930,  346,  455,  200,  634,  577,  144,\n        308,  316,  480,  252,  164,  888,  780,  662,  656,  689,  186,\n        232,  120, 1128,   89,  328,  660,  153,  172,  564,  218,  162,\n       1250,   86, 1198,  676,  140,  396,  296, 1040,  176,  381,  126,\n        744,  960,  974,  618,  894,  850,  657,   80,  235, 1115,  321,\n        756,  221,  434, 1958, 1258, 1214,  384, 1026, 1430, 1344,   30,\n        370,  546,  395,   36, 1216,  166,  388,  208,  318,  590,   98,\n        158,  100,  243, 1077,  846,  195,  476,  107, 1181,  722, 1064,\n        441,  304, 1058,  471,  540, 1180,  543,  138,  624,  229,   79,\n        498,  466,  484,  300,  220,  416,  379,  788,  342, 1736,  251,\n        278,  724,  467,  632, 1082, 1598,  522,  425,  474,  643, 1084,\n       1451,  516, 1405,  728,  745, 1204,  868,  130,  204,  219,  111,\n        264,  282,  262,  254,  549, 1696, 1614,  408, 1043, 1436, 1402,\n       1530, 1348, 1836,  222,  422,  402, 1087, 1158,  835, 1114, 1450,\n        276,  400, 1332,  122,  345,   28,  288,  182,  189, 1376, 1726,\n        183,  249,  142,  306, 1619,  392,  932,  588,  216, 1568,  160,\n        461,  265,  294,  356,  640,  613,  507,  141,  175,  313,  785,\n        280,  565,  727,  295, 1866,  572,  323,   93,  810,  792,  405,\n       1054, 1313,  560,  720,  630, 1248,  996,  108,  206,  559,  174,\n       1041,  901,  339,  240,  504,  269,  600,  801,  861,  677,  917,\n        972,  741,  245, 1022,  297,  248,  679,  938, 1048,  672,  198,\n        483,  851,   46,  585,  552,  550,  825,  916,  104,  605,  348,\n        616, 1468,  479,  380,  382, 1474,  704,  649,  513,  322,  132,\n        335, 1068,  944,  462,  608,  615,  301, 1678,  604,   94,  583,\n        112,  674,  621,   91,   90,  561,  118,  581,  760,  412,  135,\n       1527,  432,  526,  250,  117,  912,  338,  594,   75,  778,  898,\n       1008, 1280,  332, 1018, 1152,  547, 1632, 1488,  692,  469,  273,\n        738,  440, 1444,  213,  896,  684,   25,  275,  570,  575,  430,\n        538,  165,  908,  454,  404, 1765, 1486, 1347,  596,  496, 1318,\n        764, 1146,  438,  707,  167, 1173, 1519, 1242, 1341,  226,  794,\n       1339, 1660, 1095, 1162,  284,  355,  439,  375, 1328, 1211,  210,\n        194,  587,   72,  177,  147,  584,  952,  599, 1439,  723, 1625,\n        196, 1728,  242,  638,  505,  529,  503,  437,  330,  998, 1824,\n        747,  892,  168,  675,  444,  188,  453,  936,  181, 1800,  398,\n       1117,   96,  680,  828,  931,  481,  459,  407,  448,  797,  508,\n        739,  784,  869,  329,  849,  554,  460,  949,  475,  992,  497,\n        449,  897, 1046,  796,  768, 1272,  880,  647,  451,  536,  197,\n        234,  852,  326,  212,  925,  545,  639,  298,  331,  457,  628,\n       1615,  598,  631,  268,  110,  255,   83,  782,  180, 1257,  163,\n       1421, 1508, 1327,  541,  725, 1228,  336,  884,  591,  397,  555,\n        367,  520,  821,  173,  592, 1140,  910,  352, 1495,  403,  443,\n        873,  393,   35, 1092,  325,   88,  271,  207,  217,  686,  749,\n         52,  277, 1168,  903,  752,  918, 1559,   53,  815, 1028,  201,\n         22,  372, 1012,  359,  214, 1337,  423,  263, 1694, 1108,  740,\n       1704,  636, 1582, 1802, 1706,  436, 1602, 1298,  272,  729, 1300,\n        698, 1246, 1266,   56,  192, 1510,  941,  736, 1066,  770, 1369,\n       1496,  394, 1528,  769,  716,  982, 1302, 1314, 1335, 1574, 1685,\n       1100, 1143,  365, 1461,   76,  527, 1081, 1550,  179,  319,  385,\n       1594,  171,  548,  431,  433,  710, 1560,  191,   63,  765, 1144,\n        410,  424,  928,  156,  666,   55,  312,  569,  967,  808, 1075,\n        667,  371,  819,  809,  966,  750,  969,  366,  771,  717,  187,\n        635,   20,  420,  231,   95,  109,  486,  935,  411,  951, 1105,\n       1643, 2140, 1526, 1453, 1270,  879,  472,  646,  215,  845,  501,\n        399,  102,  193,  860,  683,  333,  426, 1330,  115, 1179,  123,\n       1085, 1195,  238,  971,  285, 1680,  427, 1262,  279,  311,  957,\n        106,  856,   17, 1689,  963,  970,  593, 1491,   27,   48,  185,\n        490,  595, 1851,  113,  781, 1074, 1640, 2062, 1191,  889,  644,\n       1390,  523,  494,  945,   42,  127,  363,  369, 1618, 1721, 1090,\n       1209, 1088, 1251, 1326, 1052,  767, 1126,  848, 1035,  253,  655,\n        358,  742, 1504, 1254,  858, 1118, 1400, 1131,  891,   78,  939,\n        362,  450,  530,  713,  293,   34,  360, 1404,   60, 1584,  307,\n        556,   99,  350,  517,  929,  521, 1153,  715,  802, 1556,  236,\n        863,  502,  817,  844,  798, 1226, 1020,  641,  477, 1921,  830,\n       1967, 1466,  872,   33, 1411, 1057,  532, 1308,  260, 1558,  535,\n        579,   57,  170, 1065,  258,  131,  390,  340, 1150,  864,  128,\n        818,  299,  637,  697,  671,  487, 1664,  129,  378,  383,   45,\n       1503])"
                    }, 
                    "output_type": "execute_result"
                }
            ], 
            "source": "df['BsmtUnfSF'].unique()"
        }, 
        {
            "source": "#### SaleType", 
            "cell_type": "markdown", 
            "metadata": {}
        }, 
        {
            "execution_count": 91, 
            "cell_type": "code", 
            "metadata": {}, 
            "outputs": [
                {
                    "execution_count": 91, 
                    "metadata": {}, 
                    "data": {
                        "text/plain": "array(['WD', 'COD', 'New', 'ConLD', 'Oth', 'Con', 'ConLw', 'ConLI', 'CWD',\n       nan], dtype=object)"
                    }, 
                    "output_type": "execute_result"
                }
            ], 
            "source": "df['SaleType'].unique()"
        }, 
        {
            "execution_count": 92, 
            "cell_type": "code", 
            "metadata": {}, 
            "outputs": [], 
            "source": "df['SaleType'].fillna('None', inplace=True)"
        }, 
        {
            "execution_count": 93, 
            "cell_type": "code", 
            "metadata": {}, 
            "outputs": [
                {
                    "execution_count": 93, 
                    "metadata": {}, 
                    "data": {
                        "text/plain": "array(['WD', 'COD', 'New', 'ConLD', 'Oth', 'Con', 'ConLw', 'ConLI', 'CWD',\n       'None'], dtype=object)"
                    }, 
                    "output_type": "execute_result"
                }
            ], 
            "source": "df['SaleType'].unique()"
        }, 
        {
            "source": "#### BsmtFinSF2", 
            "cell_type": "markdown", 
            "metadata": {}
        }, 
        {
            "execution_count": 95, 
            "cell_type": "code", 
            "metadata": {}, 
            "outputs": [
                {
                    "execution_count": 95, 
                    "metadata": {}, 
                    "data": {
                        "text/plain": "array([  144.,     0.,    78.,   859.,   981.,    42.,    46.,   162.,\n         174.,   350.,   263.,  1073.,    12.,   159.,   474.,   453.,\n         684.,   387.,   688.,   252.,   590.,   284.,   276.,   168.,\n         294.,   622.,   113.,  1526.,   360.,   774.,   364.,   596.,\n         884.,    92.,   216.,   136.,   147.,   201.,   512.,   247.,\n         202.,   483.,   750.,    60.,   102.,    95.,    63.,   262.,\n         393.,   286.,   450.,    72.,   243.,   694.,   875.,   507.,\n         435.,   419.,   250.,   116.,   624.,    76.,   270.,   110.,\n         288.,   186.,   449.,    48.,   613.,   495.,   852.,   555.,\n         799.,   811.,   842.,   670.,   382.,   456.,   308.,    52.,\n         196.,   128.,   488.,   319.,   273.,    nan,   240.,   956.,\n         723.,   120.,   679.,    40.,   121.,   604.,   153.,   619.,\n           6.,   351.,  1037.,   829.,   264.,    38.,   206.,   167.,\n         543.,   259.,   404.,   138.,   955.,   691.,   354.,    66.,\n         154.,   442.,   448.,   210.,   227.,   398.,   127.,   722.,\n         761.,   529.,   522.,   873.,   891.,   755.,   321.,   915.,\n         417.,   432.,   465.,   841.,   105.,   831.,   278.,  1020.,\n         530.,    80.,   904.,   539.,   620.,   156.,   108.,   492.,\n        1393.,  1039.,   497.,    68.,   402.,   748.,   281.,   912.,\n         373.,   982.,   826.,   850.,  1164.,  1083.,   400.,   337.,\n         297.,   344.])"
                    }, 
                    "output_type": "execute_result"
                }
            ], 
            "source": "df['BsmtFinSF2'].unique()"
        }, 
        {
            "execution_count": 96, 
            "cell_type": "code", 
            "metadata": {}, 
            "outputs": [], 
            "source": "df['BsmtFinSF2'].fillna('0', inplace=True)"
        }, 
        {
            "execution_count": 98, 
            "cell_type": "code", 
            "metadata": {}, 
            "outputs": [], 
            "source": "df['BsmtFinSF2'] = df['BsmtFinSF2'].astype('int', inplace=True)"
        }, 
        {
            "source": "#### GarageCars", 
            "cell_type": "markdown", 
            "metadata": {}
        }, 
        {
            "execution_count": 99, 
            "cell_type": "code", 
            "metadata": {}, 
            "outputs": [
                {
                    "execution_count": 99, 
                    "metadata": {}, 
                    "data": {
                        "text/plain": "array([  1.,   2.,   3.,   0.,   4.,   5.,  nan])"
                    }, 
                    "output_type": "execute_result"
                }
            ], 
            "source": "df['GarageCars'].unique()"
        }, 
        {
            "execution_count": 100, 
            "cell_type": "code", 
            "metadata": {}, 
            "outputs": [], 
            "source": "df['GarageCars'].fillna('0', inplace=True)"
        }, 
        {
            "execution_count": 101, 
            "cell_type": "code", 
            "metadata": {}, 
            "outputs": [], 
            "source": "df['GarageCars'] = df['GarageCars'].astype('int', inplace=True)"
        }, 
        {
            "source": "#### GarageArea", 
            "cell_type": "markdown", 
            "metadata": {}
        }, 
        {
            "execution_count": 102, 
            "cell_type": "code", 
            "metadata": {}, 
            "outputs": [
                {
                    "execution_count": 102, 
                    "metadata": {}, 
                    "data": {
                        "text/plain": "array([  730.,   312.,   482.,   470.,   506.,   440.,   420.,   393.,\n         525.,   511.,   264.,   320.,   308.,   751.,   868.,   678.,\n         958.,   756.,   484.,   430.,   437.,   400.,   433.,   962.,\n         880.,   676.,   528.,   429.,   461.,   762.,   713.,   588.,\n         480.,   496.,   852.,   592.,   596.,   535.,   660.,   441.,\n         490.,   504.,   517.,     0.,   315.,   576.,   620.,   263.,\n         318.,   305.,   280.,   240.,   551.,   780.,   288.,   624.,\n         363.,   200.,   572.,   180.,   365.,   231.,   450.,   416.,\n         591.,   690.,   522.,   467.,   209.,   366.,  1017.,   615.,\n         580.,   513.,   850.,   621.,   319.,   336.,   352.,   260.,\n         399.,   473.,   598.,   531.,   625.,   330.,   741.,   776.,\n         520.,   686.,   253.,   286.,   495.,   616.,   275.,   502.,\n         632.,   390.,   564.,   396.,   409.,   567.,   529.,   479.,\n         581.,   565.,   478.,   477.,   345.,   656.,   754.,   864.,\n         896.,   834.,   932.,   640.,   927.,   700.,   583.,   886.,\n         871.,   949.,   685.,   649.,   539.,   701.,   392.,   397.,\n         436.,   434.,   644.,   394.,   658.,   410.,   810.,   815.,\n         647.,   623.,   972.,   726.,   844.,   492.,   795.,   984.,\n         692.,   782.,   711.,   628.,   845.,   788.,   559.,   542.,\n         465.,   612.,   732.,   300.,   252.,   524.,   704.,   561.,\n         641.,   642.,   540.,   527.,   784.,   515.,   498.,   768.,\n         610.,   549.,   368.,   550.,   530.,   297.,   304.,   350.,\n         294.,   230.,   246.,   720.,   281.,   907.,   364.,   384.,\n         900.,   483.,   162.,   324.,   472.,   287.,   357.,   207.,\n         216.,   250.,  1184.,   316.,   379.,   220.,   226.,   668.,\n         340.,   266.,   462.,   672.,   820.,  1138.,   846.,   904.,\n         662.,   577.,   608.,   343.,   444.,  1231.,   570.,   521.,\n         523.,   544.,   195.,   313.,   256.,   215.,   307.,   463.,\n         295.,   452.,   501.,   351.,   541.,   885.,   578.,   486.,\n         920.,   698.,   898.,   386.,   404.,   460.,   683.,   670.,\n         557.,   738.,   489.,  1314.,   787.,   905.,   650.,   706.,\n        1150.,  1003.,   789.,   746.,   870.,   944.,   474.,   428.,\n         431.,   403.,   516.,   687.,   938.,   783.,   851.,   627.,\n         276.,   636.,   545.,   546.,   469.,   512.,   464.,   267.,\n         451.,   292.,   301.,  1488.,   372.,   401.,   311.,   299.,\n         225.,   828.,   869.,   342.,   370.,   160.,   355.,   164.,\n         360.,   228.,   270.,   626.,   912.,   249.,   322.,   614.,\n         534.,   453.,  1348.,   874.,   811.,   438.,   558.,   600.,\n         532.,   725.,   715.,   560.,   721.,   814.,   205.,   369.,\n         599.,   344.,   786.,   356.,   487.,   185.,   816.,   432.,\n         666.,   435.,   892.,   499.,   257.,   398.,   729.,  1110.,\n         556.,   724.,   663.,   481.,   585.,   488.,   856.,  1040.,\n         878.,  1174.,   728.,   843.,   916.,   818.,   774.,   554.,\n         876.,   631.,   454.,   388.,   630.,   442.,   925.,   806.,\n         758.,   933.,   605.,  1092.,   574.,   859.,   575.,   590.,\n         594.,   744.,   566.,   283.,   476.,   466.,   552.,  1105.,\n         412.,   510.,   792.,   310.,   293.,   371.,  1200.,   338.,\n         184.,   374.,   468.,   331.,   224.,   217.,   408.,   456.,\n         323.,   638.,   494.,   303.,   332.,   894.,   796.,   674.,\n         619.,   747.,   497.,   242.,   597.,   748.,   622.,   579.,\n        1154.,   509.,   691.,    nan,   100.,   471.,   571.,  1041.,\n         963.,   423.,   443.,   773.,   618.,   402.,   675.,   736.,\n         722.,   582.,   485.,   543.,   831.,  1085.,   899.,   427.,\n         617.,   959.,   803.,   760.,   928.,   584.,   449.,   688.,\n         888.,   326.,   568.,   273.,   234.,   353.,   684.,   791.,\n        1008.,   648.,   418.,   378.,   258.,   210.,   586.,   836.,\n         569.,   848.,   317.,   646.,   555.,   380.,   265.,   609.,\n         272.,   518.,   714.,   682.])"
                    }, 
                    "output_type": "execute_result"
                }
            ], 
            "source": "df['GarageArea'].unique()"
        }, 
        {
            "execution_count": 103, 
            "cell_type": "code", 
            "metadata": {}, 
            "outputs": [], 
            "source": "df['GarageArea'].fillna('0', inplace=True)"
        }, 
        {
            "execution_count": 105, 
            "cell_type": "code", 
            "metadata": {}, 
            "outputs": [], 
            "source": "df['GarageArea'] = df['GarageArea'].astype('int', inplace=True)"
        }, 
        {
            "source": "#### Exterior1st", 
            "cell_type": "markdown", 
            "metadata": {}
        }, 
        {
            "execution_count": 106, 
            "cell_type": "code", 
            "metadata": {}, 
            "outputs": [
                {
                    "execution_count": 106, 
                    "metadata": {}, 
                    "data": {
                        "text/plain": "array(['VinylSd', 'Wd Sdng', 'HdBoard', 'Plywood', 'MetalSd', 'CemntBd',\n       'WdShing', 'BrkFace', 'AsbShng', 'BrkComm', 'Stucco', 'AsphShn',\n       nan, 'CBlock'], dtype=object)"
                    }, 
                    "output_type": "execute_result"
                }
            ], 
            "source": "df['Exterior1st'].unique()"
        }, 
        {
            "execution_count": 107, 
            "cell_type": "code", 
            "metadata": {}, 
            "outputs": [], 
            "source": "df['Exterior1st'].fillna('Unknown', inplace=True)"
        }, 
        {
            "source": "#### Exterior2nd", 
            "cell_type": "markdown", 
            "metadata": {}
        }, 
        {
            "execution_count": 108, 
            "cell_type": "code", 
            "metadata": {}, 
            "outputs": [
                {
                    "execution_count": 108, 
                    "metadata": {}, 
                    "data": {
                        "text/plain": "array(['VinylSd', 'Wd Sdng', 'HdBoard', 'Plywood', 'MetalSd', 'Brk Cmn',\n       'CmentBd', 'ImStucc', 'Wd Shng', 'AsbShng', 'Stucco', 'CBlock',\n       'BrkFace', 'AsphShn', nan, 'Stone'], dtype=object)"
                    }, 
                    "output_type": "execute_result"
                }
            ], 
            "source": "df['Exterior2nd'].unique()"
        }, 
        {
            "execution_count": 109, 
            "cell_type": "code", 
            "metadata": {}, 
            "outputs": [], 
            "source": "df['Exterior2nd'].fillna('Exterior2nd', inplace=True)"
        }, 
        {
            "execution_count": 119, 
            "cell_type": "code", 
            "metadata": {}, 
            "outputs": [], 
            "source": "# Add a new column for total square feet.\ndf['TotalSF'] = df['1stFlrSF'] + df['2ndFlrSF'] + df['TotalBsmtSF']"
        }, 
        {
            "execution_count": 120, 
            "cell_type": "code", 
            "metadata": {}, 
            "outputs": [
                {
                    "execution_count": 120, 
                    "metadata": {}, 
                    "data": {
                        "text/plain": "0    1778\n1    2658\n2    2557\n3    2530\n4    2560\nName: TotalSF, dtype: int64"
                    }, 
                    "output_type": "execute_result"
                }
            ], 
            "source": "df['TotalSF'].head()"
        }, 
        {
            "execution_count": 110, 
            "cell_type": "code", 
            "metadata": {}, 
            "outputs": [
                {
                    "execution_count": 110, 
                    "metadata": {}, 
                    "data": {
                        "text/html": "<div>\n<style scoped>\n    .dataframe tbody tr th:only-of-type {\n        vertical-align: middle;\n    }\n\n    .dataframe tbody tr th {\n        vertical-align: top;\n    }\n\n    .dataframe thead th {\n        text-align: right;\n    }\n</style>\n<table border=\"1\" class=\"dataframe\">\n  <thead>\n    <tr style=\"text-align: right;\">\n      <th></th>\n      <th>Total</th>\n      <th>Percent</th>\n    </tr>\n  </thead>\n  <tbody>\n    <tr>\n      <th>DecadeBuilt</th>\n      <td>0</td>\n      <td>0.0</td>\n    </tr>\n    <tr>\n      <th>Heating</th>\n      <td>0</td>\n      <td>0.0</td>\n    </tr>\n    <tr>\n      <th>RoofStyle</th>\n      <td>0</td>\n      <td>0.0</td>\n    </tr>\n    <tr>\n      <th>RoofMatl</th>\n      <td>0</td>\n      <td>0.0</td>\n    </tr>\n    <tr>\n      <th>Exterior1st</th>\n      <td>0</td>\n      <td>0.0</td>\n    </tr>\n    <tr>\n      <th>Exterior2nd</th>\n      <td>0</td>\n      <td>0.0</td>\n    </tr>\n    <tr>\n      <th>MasVnrType</th>\n      <td>0</td>\n      <td>0.0</td>\n    </tr>\n    <tr>\n      <th>MasVnrArea</th>\n      <td>0</td>\n      <td>0.0</td>\n    </tr>\n    <tr>\n      <th>ExterQual</th>\n      <td>0</td>\n      <td>0.0</td>\n    </tr>\n    <tr>\n      <th>ExterCond</th>\n      <td>0</td>\n      <td>0.0</td>\n    </tr>\n    <tr>\n      <th>Foundation</th>\n      <td>0</td>\n      <td>0.0</td>\n    </tr>\n    <tr>\n      <th>BsmtQual</th>\n      <td>0</td>\n      <td>0.0</td>\n    </tr>\n    <tr>\n      <th>BsmtCond</th>\n      <td>0</td>\n      <td>0.0</td>\n    </tr>\n    <tr>\n      <th>BsmtExposure</th>\n      <td>0</td>\n      <td>0.0</td>\n    </tr>\n    <tr>\n      <th>BsmtFinType1</th>\n      <td>0</td>\n      <td>0.0</td>\n    </tr>\n    <tr>\n      <th>BsmtFinSF1</th>\n      <td>0</td>\n      <td>0.0</td>\n    </tr>\n    <tr>\n      <th>BsmtFinType2</th>\n      <td>0</td>\n      <td>0.0</td>\n    </tr>\n    <tr>\n      <th>BsmtFinSF2</th>\n      <td>0</td>\n      <td>0.0</td>\n    </tr>\n    <tr>\n      <th>BsmtUnfSF</th>\n      <td>0</td>\n      <td>0.0</td>\n    </tr>\n    <tr>\n      <th>YearRemodAdd</th>\n      <td>0</td>\n      <td>0.0</td>\n    </tr>\n  </tbody>\n</table>\n</div>", 
                        "text/plain": "              Total  Percent\nDecadeBuilt       0      0.0\nHeating           0      0.0\nRoofStyle         0      0.0\nRoofMatl          0      0.0\nExterior1st       0      0.0\nExterior2nd       0      0.0\nMasVnrType        0      0.0\nMasVnrArea        0      0.0\nExterQual         0      0.0\nExterCond         0      0.0\nFoundation        0      0.0\nBsmtQual          0      0.0\nBsmtCond          0      0.0\nBsmtExposure      0      0.0\nBsmtFinType1      0      0.0\nBsmtFinSF1        0      0.0\nBsmtFinType2      0      0.0\nBsmtFinSF2        0      0.0\nBsmtUnfSF         0      0.0\nYearRemodAdd      0      0.0"
                    }, 
                    "output_type": "execute_result"
                }
            ], 
            "source": "# Check to make sure there are no missing values left.\ntotal = df.isnull().sum().sort_values(ascending=False)\npercent = (df.isnull().sum()/df.isnull().count()).sort_values(ascending=False)\nmissing_data = pd.concat([total, percent], axis=1, keys=['Total', 'Percent'])\nmissing_data.head(20)"
        }, 
        {
            "source": "## Data is all cleaned up and there are no more missing values. Time to Encode and get dummy variables. ", 
            "cell_type": "markdown", 
            "metadata": {}
        }, 
        {
            "source": "## Encoding\n- Changing categorical features into numeric features to be used in models.\n- If I felt like the columns features could be ranked from worst to beat I will use a label encoder.\n- If I felt like the columns features could not be ranked I will use getdummies. ", 
            "cell_type": "markdown", 
            "metadata": {}
        }, 
        {
            "execution_count": 111, 
            "cell_type": "code", 
            "metadata": {}, 
            "outputs": [], 
            "source": "# Change any columns of strings in a panda's dataframe to a column of\n# categorical values. This applies the changes inplace\ndef train_cats(df):\n     for n,c in df.items():\n        if is_string_dtype(c): df[n] = c.astype('category').cat.as_ordered()"
        }, 
        {
            "execution_count": 112, 
            "cell_type": "code", 
            "metadata": {}, 
            "outputs": [], 
            "source": "train_cats(df)"
        }, 
        {
            "source": "### Ordering all the same columns I did for the training data in the EDA notebook", 
            "cell_type": "markdown", 
            "metadata": {}
        }, 
        {
            "execution_count": 113, 
            "cell_type": "code", 
            "metadata": {}, 
            "outputs": [], 
            "source": "df.Street.cat.set_categories((['Grvl', 'Pave']), ordered=True, inplace=True)\ndf.LandSlope.cat.set_categories((['Sev', 'Mod', 'Gtl']), ordered=True, inplace=True)\ndf.ExterQual.cat.set_categories((['Fa', 'TA', 'Gd', 'Ex']), ordered=True, inplace=True)\ndf.ExterCond.cat.set_categories((['Po', 'Fa', 'TA', 'Gd', 'Ex']), ordered=True, inplace=True)\ndf.HeatingQC.cat.set_categories((['Po', 'Fa', 'TA', 'Gd', 'Ex']), ordered=True, inplace=True)\ndf.CentralAir.cat.set_categories((['N', 'Y']), ordered=True, inplace=True)\ndf.KitchenQual.cat.set_categories((['Fa', 'TA', 'Gd', 'Ex']), ordered=True, inplace=True)\ndf.FireplaceQu.cat.set_categories((['None', 'Po', 'TA', 'Fa', 'Gd', 'Ex']), ordered=True, inplace=True)\ndf.GarageFinish.cat.set_categories((['None', 'Unf', 'RFn', 'Fin']), ordered=True, inplace=True)\ndf.GarageQual.cat.set_categories((['None', 'Po', 'Fa', 'TA', 'Gd', 'Ex']), ordered=True, inplace=True)\ndf.GarageCond.cat.set_categories((['None', 'Po', 'Fa', 'TA', 'Gd', 'Ex']), ordered=True, inplace=True)\ndf.PavedDrive.cat.set_categories((['N', 'P', 'Y']), ordered=True, inplace=True)\ndf.BsmtQual.cat.set_categories((['None', 'Fa', 'TA', 'Gd', 'Ex']), ordered=True, inplace=True)\ndf.BsmtCond.cat.set_categories((['None', 'Po', 'Fa', 'TA', 'Gd', 'Ex']), ordered=True, inplace=True)\ndf.BsmtExposure.cat.set_categories((['No', 'Av', 'Gd', 'Mn']), ordered=True, inplace=True)\ndf.PoolQC.cat.set_categories((['None', 'Fa', 'Gd', 'Ex']), ordered=True, inplace=True)"
        }, 
        {
            "source": "## Label Encoding", 
            "cell_type": "markdown", 
            "metadata": {}
        }, 
        {
            "execution_count": 114, 
            "cell_type": "code", 
            "metadata": {}, 
            "outputs": [], 
            "source": "label_cols = ('Street', 'Alley', 'LandSlope', 'ExterQual', 'ExterCond', 'HeatingQC', \n              'CentralAir', 'KitchenQual', 'FireplaceQu', 'GarageFinish', 'GarageQual', \n              'GarageCond', 'PavedDrive', 'BsmtQual', 'BsmtCond', 'BsmtExposure', \n              'PoolQC')\n\nfor c in label_cols:\n    le = LabelEncoder()\n    le.fit(list(df[c].values))\n    df[c] = le.transform(list(df[c].values))"
        }, 
        {
            "source": "## Get Dummy Variables\n- Get dummy variables for the rest of the columns.", 
            "cell_type": "markdown", 
            "metadata": {}
        }, 
        {
            "execution_count": 115, 
            "cell_type": "code", 
            "metadata": {}, 
            "outputs": [], 
            "source": "dummy_df = pd.get_dummies(df, columns=['MSZoning', 'LotShape', 'LandContour', 'Utilities', 'LotConfig', 'Neighborhood',\n            'BldgType', 'RoofStyle', 'RoofMatl', 'Exterior1st', 'Exterior2nd', 'MasVnrType', \n            'BsmtExposure', 'BsmtFinType1', 'Heating','Electrical', 'GarageType', 'SaleType', \n            'Condition1', 'Condition2', 'HouseStyle', 'BsmtFinType2', 'Functional', 'SaleCondition',\n            'Foundation', 'Heating', 'Fence', 'MiscFeature'], drop_first=True)"
        }, 
        {
            "execution_count": 117, 
            "cell_type": "code", 
            "metadata": {}, 
            "outputs": [], 
            "source": "# Function that displays all columns and rows when you use commands like df.head() and df_tail().\n\ndef display_all(df):\n    with pd.option_context('display.max_rows', 1000):\n        with pd.option_context('display.max_columns', 1000):\n            display(df)"
        }, 
        {
            "execution_count": 121, 
            "cell_type": "code", 
            "metadata": {}, 
            "outputs": [
                {
                    "output_type": "display_data", 
                    "data": {
                        "text/html": "<div>\n<style scoped>\n    .dataframe tbody tr th:only-of-type {\n        vertical-align: middle;\n    }\n\n    .dataframe tbody tr th {\n        vertical-align: top;\n    }\n\n    .dataframe thead th {\n        text-align: right;\n    }\n</style>\n<table border=\"1\" class=\"dataframe\">\n  <thead>\n    <tr style=\"text-align: right;\">\n      <th></th>\n      <th>0</th>\n      <th>1</th>\n      <th>2</th>\n      <th>3</th>\n      <th>4</th>\n    </tr>\n  </thead>\n  <tbody>\n    <tr>\n      <th>Id</th>\n      <td>1461</td>\n      <td>1462</td>\n      <td>1463</td>\n      <td>1464</td>\n      <td>1465</td>\n    </tr>\n    <tr>\n      <th>MSSubClass</th>\n      <td>20</td>\n      <td>20</td>\n      <td>60</td>\n      <td>60</td>\n      <td>120</td>\n    </tr>\n    <tr>\n      <th>LotFrontage</th>\n      <td>80</td>\n      <td>81</td>\n      <td>74</td>\n      <td>78</td>\n      <td>43</td>\n    </tr>\n    <tr>\n      <th>LotArea</th>\n      <td>11622</td>\n      <td>14267</td>\n      <td>13830</td>\n      <td>9978</td>\n      <td>5005</td>\n    </tr>\n    <tr>\n      <th>Street</th>\n      <td>1</td>\n      <td>1</td>\n      <td>1</td>\n      <td>1</td>\n      <td>1</td>\n    </tr>\n    <tr>\n      <th>Alley</th>\n      <td>1</td>\n      <td>1</td>\n      <td>1</td>\n      <td>1</td>\n      <td>1</td>\n    </tr>\n    <tr>\n      <th>LandSlope</th>\n      <td>0</td>\n      <td>0</td>\n      <td>0</td>\n      <td>0</td>\n      <td>0</td>\n    </tr>\n    <tr>\n      <th>OverallQual</th>\n      <td>5</td>\n      <td>6</td>\n      <td>5</td>\n      <td>6</td>\n      <td>8</td>\n    </tr>\n    <tr>\n      <th>OverallCond</th>\n      <td>6</td>\n      <td>6</td>\n      <td>5</td>\n      <td>6</td>\n      <td>5</td>\n    </tr>\n    <tr>\n      <th>YearBuilt</th>\n      <td>1961</td>\n      <td>1958</td>\n      <td>1997</td>\n      <td>1998</td>\n      <td>1992</td>\n    </tr>\n    <tr>\n      <th>YearRemodAdd</th>\n      <td>1961</td>\n      <td>1958</td>\n      <td>1998</td>\n      <td>1998</td>\n      <td>1992</td>\n    </tr>\n    <tr>\n      <th>MasVnrArea</th>\n      <td>0</td>\n      <td>108</td>\n      <td>0</td>\n      <td>20</td>\n      <td>0</td>\n    </tr>\n    <tr>\n      <th>ExterQual</th>\n      <td>3</td>\n      <td>3</td>\n      <td>3</td>\n      <td>3</td>\n      <td>2</td>\n    </tr>\n    <tr>\n      <th>ExterCond</th>\n      <td>4</td>\n      <td>4</td>\n      <td>4</td>\n      <td>4</td>\n      <td>4</td>\n    </tr>\n    <tr>\n      <th>BsmtQual</th>\n      <td>4</td>\n      <td>4</td>\n      <td>2</td>\n      <td>4</td>\n      <td>2</td>\n    </tr>\n    <tr>\n      <th>BsmtCond</th>\n      <td>4</td>\n      <td>4</td>\n      <td>4</td>\n      <td>4</td>\n      <td>4</td>\n    </tr>\n    <tr>\n      <th>BsmtFinSF1</th>\n      <td>468</td>\n      <td>923</td>\n      <td>791</td>\n      <td>602</td>\n      <td>263</td>\n    </tr>\n    <tr>\n      <th>BsmtFinSF2</th>\n      <td>144</td>\n      <td>0</td>\n      <td>0</td>\n      <td>0</td>\n      <td>0</td>\n    </tr>\n    <tr>\n      <th>BsmtUnfSF</th>\n      <td>270</td>\n      <td>406</td>\n      <td>137</td>\n      <td>324</td>\n      <td>1017</td>\n    </tr>\n    <tr>\n      <th>TotalBsmtSF</th>\n      <td>882</td>\n      <td>1329</td>\n      <td>928</td>\n      <td>926</td>\n      <td>1280</td>\n    </tr>\n    <tr>\n      <th>HeatingQC</th>\n      <td>4</td>\n      <td>4</td>\n      <td>2</td>\n      <td>0</td>\n      <td>0</td>\n    </tr>\n    <tr>\n      <th>CentralAir</th>\n      <td>1</td>\n      <td>1</td>\n      <td>1</td>\n      <td>1</td>\n      <td>1</td>\n    </tr>\n    <tr>\n      <th>1stFlrSF</th>\n      <td>896</td>\n      <td>1329</td>\n      <td>928</td>\n      <td>926</td>\n      <td>1280</td>\n    </tr>\n    <tr>\n      <th>2ndFlrSF</th>\n      <td>0</td>\n      <td>0</td>\n      <td>701</td>\n      <td>678</td>\n      <td>0</td>\n    </tr>\n    <tr>\n      <th>LowQualFinSF</th>\n      <td>0</td>\n      <td>0</td>\n      <td>0</td>\n      <td>0</td>\n      <td>0</td>\n    </tr>\n    <tr>\n      <th>GrLivArea</th>\n      <td>896</td>\n      <td>1329</td>\n      <td>1629</td>\n      <td>1604</td>\n      <td>1280</td>\n    </tr>\n    <tr>\n      <th>BsmtFullBath</th>\n      <td>0</td>\n      <td>0</td>\n      <td>0</td>\n      <td>0</td>\n      <td>0</td>\n    </tr>\n    <tr>\n      <th>BsmtHalfBath</th>\n      <td>0</td>\n      <td>0</td>\n      <td>0</td>\n      <td>0</td>\n      <td>0</td>\n    </tr>\n    <tr>\n      <th>FullBath</th>\n      <td>1</td>\n      <td>1</td>\n      <td>2</td>\n      <td>2</td>\n      <td>2</td>\n    </tr>\n    <tr>\n      <th>HalfBath</th>\n      <td>0</td>\n      <td>1</td>\n      <td>1</td>\n      <td>1</td>\n      <td>0</td>\n    </tr>\n    <tr>\n      <th>BedroomAbvGr</th>\n      <td>2</td>\n      <td>3</td>\n      <td>3</td>\n      <td>3</td>\n      <td>2</td>\n    </tr>\n    <tr>\n      <th>KitchenAbvGr</th>\n      <td>1</td>\n      <td>1</td>\n      <td>1</td>\n      <td>1</td>\n      <td>1</td>\n    </tr>\n    <tr>\n      <th>KitchenQual</th>\n      <td>3</td>\n      <td>2</td>\n      <td>3</td>\n      <td>2</td>\n      <td>2</td>\n    </tr>\n    <tr>\n      <th>TotRmsAbvGrd</th>\n      <td>5</td>\n      <td>6</td>\n      <td>6</td>\n      <td>7</td>\n      <td>5</td>\n    </tr>\n    <tr>\n      <th>Fireplaces</th>\n      <td>0</td>\n      <td>0</td>\n      <td>1</td>\n      <td>1</td>\n      <td>0</td>\n    </tr>\n    <tr>\n      <th>FireplaceQu</th>\n      <td>3</td>\n      <td>3</td>\n      <td>5</td>\n      <td>2</td>\n      <td>3</td>\n    </tr>\n    <tr>\n      <th>GarageYrBlt</th>\n      <td>1961</td>\n      <td>1958</td>\n      <td>1997</td>\n      <td>1998</td>\n      <td>1992</td>\n    </tr>\n    <tr>\n      <th>GarageFinish</th>\n      <td>3</td>\n      <td>3</td>\n      <td>0</td>\n      <td>0</td>\n      <td>2</td>\n    </tr>\n    <tr>\n      <th>GarageCars</th>\n      <td>1</td>\n      <td>1</td>\n      <td>2</td>\n      <td>2</td>\n      <td>2</td>\n    </tr>\n    <tr>\n      <th>GarageArea</th>\n      <td>730</td>\n      <td>312</td>\n      <td>482</td>\n      <td>470</td>\n      <td>506</td>\n    </tr>\n    <tr>\n      <th>GarageQual</th>\n      <td>4</td>\n      <td>4</td>\n      <td>4</td>\n      <td>4</td>\n      <td>4</td>\n    </tr>\n    <tr>\n      <th>GarageCond</th>\n      <td>5</td>\n      <td>5</td>\n      <td>5</td>\n      <td>5</td>\n      <td>5</td>\n    </tr>\n    <tr>\n      <th>PavedDrive</th>\n      <td>2</td>\n      <td>2</td>\n      <td>2</td>\n      <td>2</td>\n      <td>2</td>\n    </tr>\n    <tr>\n      <th>WoodDeckSF</th>\n      <td>140</td>\n      <td>393</td>\n      <td>212</td>\n      <td>360</td>\n      <td>0</td>\n    </tr>\n    <tr>\n      <th>OpenPorchSF</th>\n      <td>0</td>\n      <td>36</td>\n      <td>34</td>\n      <td>36</td>\n      <td>82</td>\n    </tr>\n    <tr>\n      <th>EnclosedPorch</th>\n      <td>0</td>\n      <td>0</td>\n      <td>0</td>\n      <td>0</td>\n      <td>0</td>\n    </tr>\n    <tr>\n      <th>3SsnPorch</th>\n      <td>0</td>\n      <td>0</td>\n      <td>0</td>\n      <td>0</td>\n      <td>0</td>\n    </tr>\n    <tr>\n      <th>ScreenPorch</th>\n      <td>120</td>\n      <td>0</td>\n      <td>0</td>\n      <td>0</td>\n      <td>144</td>\n    </tr>\n    <tr>\n      <th>PoolArea</th>\n      <td>0</td>\n      <td>0</td>\n      <td>0</td>\n      <td>0</td>\n      <td>0</td>\n    </tr>\n    <tr>\n      <th>PoolQC</th>\n      <td>2</td>\n      <td>2</td>\n      <td>2</td>\n      <td>2</td>\n      <td>2</td>\n    </tr>\n    <tr>\n      <th>MiscVal</th>\n      <td>0</td>\n      <td>12500</td>\n      <td>0</td>\n      <td>0</td>\n      <td>0</td>\n    </tr>\n    <tr>\n      <th>MoSold</th>\n      <td>6</td>\n      <td>6</td>\n      <td>3</td>\n      <td>6</td>\n      <td>1</td>\n    </tr>\n    <tr>\n      <th>YrSold</th>\n      <td>2010</td>\n      <td>2010</td>\n      <td>2010</td>\n      <td>2010</td>\n      <td>2010</td>\n    </tr>\n    <tr>\n      <th>DecadeBuilt</th>\n      <td>1960</td>\n      <td>1950</td>\n      <td>1990</td>\n      <td>1990</td>\n      <td>1990</td>\n    </tr>\n    <tr>\n      <th>MSZoning_FV</th>\n      <td>0</td>\n      <td>0</td>\n      <td>0</td>\n      <td>0</td>\n      <td>0</td>\n    </tr>\n    <tr>\n      <th>MSZoning_None</th>\n      <td>0</td>\n      <td>0</td>\n      <td>0</td>\n      <td>0</td>\n      <td>0</td>\n    </tr>\n    <tr>\n      <th>MSZoning_RH</th>\n      <td>1</td>\n      <td>0</td>\n      <td>0</td>\n      <td>0</td>\n      <td>0</td>\n    </tr>\n    <tr>\n      <th>MSZoning_RL</th>\n      <td>0</td>\n      <td>1</td>\n      <td>1</td>\n      <td>1</td>\n      <td>1</td>\n    </tr>\n    <tr>\n      <th>MSZoning_RM</th>\n      <td>0</td>\n      <td>0</td>\n      <td>0</td>\n      <td>0</td>\n      <td>0</td>\n    </tr>\n    <tr>\n      <th>LotShape_IR2</th>\n      <td>0</td>\n      <td>0</td>\n      <td>0</td>\n      <td>0</td>\n      <td>0</td>\n    </tr>\n    <tr>\n      <th>LotShape_IR3</th>\n      <td>0</td>\n      <td>0</td>\n      <td>0</td>\n      <td>0</td>\n      <td>0</td>\n    </tr>\n    <tr>\n      <th>LotShape_Reg</th>\n      <td>1</td>\n      <td>0</td>\n      <td>0</td>\n      <td>0</td>\n      <td>0</td>\n    </tr>\n    <tr>\n      <th>LandContour_HLS</th>\n      <td>0</td>\n      <td>0</td>\n      <td>0</td>\n      <td>0</td>\n      <td>1</td>\n    </tr>\n    <tr>\n      <th>LandContour_Low</th>\n      <td>0</td>\n      <td>0</td>\n      <td>0</td>\n      <td>0</td>\n      <td>0</td>\n    </tr>\n    <tr>\n      <th>LandContour_Lvl</th>\n      <td>1</td>\n      <td>1</td>\n      <td>1</td>\n      <td>1</td>\n      <td>0</td>\n    </tr>\n    <tr>\n      <th>Utilities_NonPub</th>\n      <td>0</td>\n      <td>0</td>\n      <td>0</td>\n      <td>0</td>\n      <td>0</td>\n    </tr>\n    <tr>\n      <th>LotConfig_CulDSac</th>\n      <td>0</td>\n      <td>0</td>\n      <td>0</td>\n      <td>0</td>\n      <td>0</td>\n    </tr>\n    <tr>\n      <th>LotConfig_FR2</th>\n      <td>0</td>\n      <td>0</td>\n      <td>0</td>\n      <td>0</td>\n      <td>0</td>\n    </tr>\n    <tr>\n      <th>LotConfig_FR3</th>\n      <td>0</td>\n      <td>0</td>\n      <td>0</td>\n      <td>0</td>\n      <td>0</td>\n    </tr>\n    <tr>\n      <th>LotConfig_Inside</th>\n      <td>1</td>\n      <td>0</td>\n      <td>1</td>\n      <td>1</td>\n      <td>1</td>\n    </tr>\n    <tr>\n      <th>Neighborhood_Blueste</th>\n      <td>0</td>\n      <td>0</td>\n      <td>0</td>\n      <td>0</td>\n      <td>0</td>\n    </tr>\n    <tr>\n      <th>Neighborhood_BrDale</th>\n      <td>0</td>\n      <td>0</td>\n      <td>0</td>\n      <td>0</td>\n      <td>0</td>\n    </tr>\n    <tr>\n      <th>Neighborhood_BrkSide</th>\n      <td>0</td>\n      <td>0</td>\n      <td>0</td>\n      <td>0</td>\n      <td>0</td>\n    </tr>\n    <tr>\n      <th>Neighborhood_ClearCr</th>\n      <td>0</td>\n      <td>0</td>\n      <td>0</td>\n      <td>0</td>\n      <td>0</td>\n    </tr>\n    <tr>\n      <th>Neighborhood_CollgCr</th>\n      <td>0</td>\n      <td>0</td>\n      <td>0</td>\n      <td>0</td>\n      <td>0</td>\n    </tr>\n    <tr>\n      <th>Neighborhood_Crawfor</th>\n      <td>0</td>\n      <td>0</td>\n      <td>0</td>\n      <td>0</td>\n      <td>0</td>\n    </tr>\n    <tr>\n      <th>Neighborhood_Edwards</th>\n      <td>0</td>\n      <td>0</td>\n      <td>0</td>\n      <td>0</td>\n      <td>0</td>\n    </tr>\n    <tr>\n      <th>Neighborhood_Gilbert</th>\n      <td>0</td>\n      <td>0</td>\n      <td>1</td>\n      <td>1</td>\n      <td>0</td>\n    </tr>\n    <tr>\n      <th>Neighborhood_IDOTRR</th>\n      <td>0</td>\n      <td>0</td>\n      <td>0</td>\n      <td>0</td>\n      <td>0</td>\n    </tr>\n    <tr>\n      <th>Neighborhood_MeadowV</th>\n      <td>0</td>\n      <td>0</td>\n      <td>0</td>\n      <td>0</td>\n      <td>0</td>\n    </tr>\n    <tr>\n      <th>Neighborhood_Mitchel</th>\n      <td>0</td>\n      <td>0</td>\n      <td>0</td>\n      <td>0</td>\n      <td>0</td>\n    </tr>\n    <tr>\n      <th>Neighborhood_NAmes</th>\n      <td>1</td>\n      <td>1</td>\n      <td>0</td>\n      <td>0</td>\n      <td>0</td>\n    </tr>\n    <tr>\n      <th>Neighborhood_NPkVill</th>\n      <td>0</td>\n      <td>0</td>\n      <td>0</td>\n      <td>0</td>\n      <td>0</td>\n    </tr>\n    <tr>\n      <th>Neighborhood_NWAmes</th>\n      <td>0</td>\n      <td>0</td>\n      <td>0</td>\n      <td>0</td>\n      <td>0</td>\n    </tr>\n    <tr>\n      <th>Neighborhood_NoRidge</th>\n      <td>0</td>\n      <td>0</td>\n      <td>0</td>\n      <td>0</td>\n      <td>0</td>\n    </tr>\n    <tr>\n      <th>Neighborhood_NridgHt</th>\n      <td>0</td>\n      <td>0</td>\n      <td>0</td>\n      <td>0</td>\n      <td>0</td>\n    </tr>\n    <tr>\n      <th>Neighborhood_OldTown</th>\n      <td>0</td>\n      <td>0</td>\n      <td>0</td>\n      <td>0</td>\n      <td>0</td>\n    </tr>\n    <tr>\n      <th>Neighborhood_SWISU</th>\n      <td>0</td>\n      <td>0</td>\n      <td>0</td>\n      <td>0</td>\n      <td>0</td>\n    </tr>\n    <tr>\n      <th>Neighborhood_Sawyer</th>\n      <td>0</td>\n      <td>0</td>\n      <td>0</td>\n      <td>0</td>\n      <td>0</td>\n    </tr>\n    <tr>\n      <th>Neighborhood_SawyerW</th>\n      <td>0</td>\n      <td>0</td>\n      <td>0</td>\n      <td>0</td>\n      <td>0</td>\n    </tr>\n    <tr>\n      <th>Neighborhood_Somerst</th>\n      <td>0</td>\n      <td>0</td>\n      <td>0</td>\n      <td>0</td>\n      <td>0</td>\n    </tr>\n    <tr>\n      <th>Neighborhood_StoneBr</th>\n      <td>0</td>\n      <td>0</td>\n      <td>0</td>\n      <td>0</td>\n      <td>1</td>\n    </tr>\n    <tr>\n      <th>Neighborhood_Timber</th>\n      <td>0</td>\n      <td>0</td>\n      <td>0</td>\n      <td>0</td>\n      <td>0</td>\n    </tr>\n    <tr>\n      <th>Neighborhood_Veenker</th>\n      <td>0</td>\n      <td>0</td>\n      <td>0</td>\n      <td>0</td>\n      <td>0</td>\n    </tr>\n    <tr>\n      <th>BldgType_2fmCon</th>\n      <td>0</td>\n      <td>0</td>\n      <td>0</td>\n      <td>0</td>\n      <td>0</td>\n    </tr>\n    <tr>\n      <th>BldgType_Duplex</th>\n      <td>0</td>\n      <td>0</td>\n      <td>0</td>\n      <td>0</td>\n      <td>0</td>\n    </tr>\n    <tr>\n      <th>BldgType_Twnhs</th>\n      <td>0</td>\n      <td>0</td>\n      <td>0</td>\n      <td>0</td>\n      <td>0</td>\n    </tr>\n    <tr>\n      <th>BldgType_TwnhsE</th>\n      <td>0</td>\n      <td>0</td>\n      <td>0</td>\n      <td>0</td>\n      <td>1</td>\n    </tr>\n    <tr>\n      <th>RoofStyle_Gable</th>\n      <td>1</td>\n      <td>0</td>\n      <td>1</td>\n      <td>1</td>\n      <td>1</td>\n    </tr>\n    <tr>\n      <th>RoofStyle_Gambrel</th>\n      <td>0</td>\n      <td>0</td>\n      <td>0</td>\n      <td>0</td>\n      <td>0</td>\n    </tr>\n    <tr>\n      <th>RoofStyle_Hip</th>\n      <td>0</td>\n      <td>1</td>\n      <td>0</td>\n      <td>0</td>\n      <td>0</td>\n    </tr>\n    <tr>\n      <th>RoofStyle_Mansard</th>\n      <td>0</td>\n      <td>0</td>\n      <td>0</td>\n      <td>0</td>\n      <td>0</td>\n    </tr>\n    <tr>\n      <th>RoofStyle_Shed</th>\n      <td>0</td>\n      <td>0</td>\n      <td>0</td>\n      <td>0</td>\n      <td>0</td>\n    </tr>\n    <tr>\n      <th>RoofMatl_Tar&amp;Grv</th>\n      <td>0</td>\n      <td>0</td>\n      <td>0</td>\n      <td>0</td>\n      <td>0</td>\n    </tr>\n    <tr>\n      <th>RoofMatl_WdShake</th>\n      <td>0</td>\n      <td>0</td>\n      <td>0</td>\n      <td>0</td>\n      <td>0</td>\n    </tr>\n    <tr>\n      <th>RoofMatl_WdShngl</th>\n      <td>0</td>\n      <td>0</td>\n      <td>0</td>\n      <td>0</td>\n      <td>0</td>\n    </tr>\n    <tr>\n      <th>Exterior1st_AsphShn</th>\n      <td>0</td>\n      <td>0</td>\n      <td>0</td>\n      <td>0</td>\n      <td>0</td>\n    </tr>\n    <tr>\n      <th>Exterior1st_BrkComm</th>\n      <td>0</td>\n      <td>0</td>\n      <td>0</td>\n      <td>0</td>\n      <td>0</td>\n    </tr>\n    <tr>\n      <th>Exterior1st_BrkFace</th>\n      <td>0</td>\n      <td>0</td>\n      <td>0</td>\n      <td>0</td>\n      <td>0</td>\n    </tr>\n    <tr>\n      <th>Exterior1st_CBlock</th>\n      <td>0</td>\n      <td>0</td>\n      <td>0</td>\n      <td>0</td>\n      <td>0</td>\n    </tr>\n    <tr>\n      <th>Exterior1st_CemntBd</th>\n      <td>0</td>\n      <td>0</td>\n      <td>0</td>\n      <td>0</td>\n      <td>0</td>\n    </tr>\n    <tr>\n      <th>Exterior1st_HdBoard</th>\n      <td>0</td>\n      <td>0</td>\n      <td>0</td>\n      <td>0</td>\n      <td>1</td>\n    </tr>\n    <tr>\n      <th>Exterior1st_MetalSd</th>\n      <td>0</td>\n      <td>0</td>\n      <td>0</td>\n      <td>0</td>\n      <td>0</td>\n    </tr>\n    <tr>\n      <th>Exterior1st_Plywood</th>\n      <td>0</td>\n      <td>0</td>\n      <td>0</td>\n      <td>0</td>\n      <td>0</td>\n    </tr>\n    <tr>\n      <th>Exterior1st_Stucco</th>\n      <td>0</td>\n      <td>0</td>\n      <td>0</td>\n      <td>0</td>\n      <td>0</td>\n    </tr>\n    <tr>\n      <th>Exterior1st_Unknown</th>\n      <td>0</td>\n      <td>0</td>\n      <td>0</td>\n      <td>0</td>\n      <td>0</td>\n    </tr>\n    <tr>\n      <th>Exterior1st_VinylSd</th>\n      <td>1</td>\n      <td>0</td>\n      <td>1</td>\n      <td>1</td>\n      <td>0</td>\n    </tr>\n    <tr>\n      <th>Exterior1st_Wd Sdng</th>\n      <td>0</td>\n      <td>1</td>\n      <td>0</td>\n      <td>0</td>\n      <td>0</td>\n    </tr>\n    <tr>\n      <th>Exterior1st_WdShing</th>\n      <td>0</td>\n      <td>0</td>\n      <td>0</td>\n      <td>0</td>\n      <td>0</td>\n    </tr>\n    <tr>\n      <th>Exterior2nd_AsphShn</th>\n      <td>0</td>\n      <td>0</td>\n      <td>0</td>\n      <td>0</td>\n      <td>0</td>\n    </tr>\n    <tr>\n      <th>Exterior2nd_Brk Cmn</th>\n      <td>0</td>\n      <td>0</td>\n      <td>0</td>\n      <td>0</td>\n      <td>0</td>\n    </tr>\n    <tr>\n      <th>Exterior2nd_BrkFace</th>\n      <td>0</td>\n      <td>0</td>\n      <td>0</td>\n      <td>0</td>\n      <td>0</td>\n    </tr>\n    <tr>\n      <th>Exterior2nd_CBlock</th>\n      <td>0</td>\n      <td>0</td>\n      <td>0</td>\n      <td>0</td>\n      <td>0</td>\n    </tr>\n    <tr>\n      <th>Exterior2nd_CmentBd</th>\n      <td>0</td>\n      <td>0</td>\n      <td>0</td>\n      <td>0</td>\n      <td>0</td>\n    </tr>\n    <tr>\n      <th>Exterior2nd_Exterior2nd</th>\n      <td>0</td>\n      <td>0</td>\n      <td>0</td>\n      <td>0</td>\n      <td>0</td>\n    </tr>\n    <tr>\n      <th>Exterior2nd_HdBoard</th>\n      <td>0</td>\n      <td>0</td>\n      <td>0</td>\n      <td>0</td>\n      <td>1</td>\n    </tr>\n    <tr>\n      <th>Exterior2nd_ImStucc</th>\n      <td>0</td>\n      <td>0</td>\n      <td>0</td>\n      <td>0</td>\n      <td>0</td>\n    </tr>\n    <tr>\n      <th>Exterior2nd_MetalSd</th>\n      <td>0</td>\n      <td>0</td>\n      <td>0</td>\n      <td>0</td>\n      <td>0</td>\n    </tr>\n    <tr>\n      <th>Exterior2nd_Plywood</th>\n      <td>0</td>\n      <td>0</td>\n      <td>0</td>\n      <td>0</td>\n      <td>0</td>\n    </tr>\n    <tr>\n      <th>Exterior2nd_Stone</th>\n      <td>0</td>\n      <td>0</td>\n      <td>0</td>\n      <td>0</td>\n      <td>0</td>\n    </tr>\n    <tr>\n      <th>Exterior2nd_Stucco</th>\n      <td>0</td>\n      <td>0</td>\n      <td>0</td>\n      <td>0</td>\n      <td>0</td>\n    </tr>\n    <tr>\n      <th>Exterior2nd_VinylSd</th>\n      <td>1</td>\n      <td>0</td>\n      <td>1</td>\n      <td>1</td>\n      <td>0</td>\n    </tr>\n    <tr>\n      <th>Exterior2nd_Wd Sdng</th>\n      <td>0</td>\n      <td>1</td>\n      <td>0</td>\n      <td>0</td>\n      <td>0</td>\n    </tr>\n    <tr>\n      <th>Exterior2nd_Wd Shng</th>\n      <td>0</td>\n      <td>0</td>\n      <td>0</td>\n      <td>0</td>\n      <td>0</td>\n    </tr>\n    <tr>\n      <th>MasVnrType_BrkFace</th>\n      <td>0</td>\n      <td>1</td>\n      <td>0</td>\n      <td>1</td>\n      <td>0</td>\n    </tr>\n    <tr>\n      <th>MasVnrType_None</th>\n      <td>1</td>\n      <td>0</td>\n      <td>1</td>\n      <td>0</td>\n      <td>1</td>\n    </tr>\n    <tr>\n      <th>MasVnrType_Stone</th>\n      <td>0</td>\n      <td>0</td>\n      <td>0</td>\n      <td>0</td>\n      <td>0</td>\n    </tr>\n    <tr>\n      <th>BsmtExposure_1</th>\n      <td>0</td>\n      <td>0</td>\n      <td>0</td>\n      <td>0</td>\n      <td>0</td>\n    </tr>\n    <tr>\n      <th>BsmtExposure_2</th>\n      <td>0</td>\n      <td>0</td>\n      <td>0</td>\n      <td>0</td>\n      <td>0</td>\n    </tr>\n    <tr>\n      <th>BsmtExposure_3</th>\n      <td>1</td>\n      <td>1</td>\n      <td>1</td>\n      <td>1</td>\n      <td>1</td>\n    </tr>\n    <tr>\n      <th>BsmtFinType1_BLQ</th>\n      <td>0</td>\n      <td>0</td>\n      <td>0</td>\n      <td>0</td>\n      <td>0</td>\n    </tr>\n    <tr>\n      <th>BsmtFinType1_GLQ</th>\n      <td>0</td>\n      <td>0</td>\n      <td>1</td>\n      <td>1</td>\n      <td>0</td>\n    </tr>\n    <tr>\n      <th>BsmtFinType1_LwQ</th>\n      <td>0</td>\n      <td>0</td>\n      <td>0</td>\n      <td>0</td>\n      <td>0</td>\n    </tr>\n    <tr>\n      <th>BsmtFinType1_None</th>\n      <td>0</td>\n      <td>0</td>\n      <td>0</td>\n      <td>0</td>\n      <td>0</td>\n    </tr>\n    <tr>\n      <th>BsmtFinType1_Rec</th>\n      <td>1</td>\n      <td>0</td>\n      <td>0</td>\n      <td>0</td>\n      <td>0</td>\n    </tr>\n    <tr>\n      <th>BsmtFinType1_Unf</th>\n      <td>0</td>\n      <td>0</td>\n      <td>0</td>\n      <td>0</td>\n      <td>0</td>\n    </tr>\n    <tr>\n      <th>Heating_GasW</th>\n      <td>0</td>\n      <td>0</td>\n      <td>0</td>\n      <td>0</td>\n      <td>0</td>\n    </tr>\n    <tr>\n      <th>Heating_Grav</th>\n      <td>0</td>\n      <td>0</td>\n      <td>0</td>\n      <td>0</td>\n      <td>0</td>\n    </tr>\n    <tr>\n      <th>Heating_Wall</th>\n      <td>0</td>\n      <td>0</td>\n      <td>0</td>\n      <td>0</td>\n      <td>0</td>\n    </tr>\n    <tr>\n      <th>Electrical_FuseF</th>\n      <td>0</td>\n      <td>0</td>\n      <td>0</td>\n      <td>0</td>\n      <td>0</td>\n    </tr>\n    <tr>\n      <th>Electrical_FuseP</th>\n      <td>0</td>\n      <td>0</td>\n      <td>0</td>\n      <td>0</td>\n      <td>0</td>\n    </tr>\n    <tr>\n      <th>Electrical_SBrkr</th>\n      <td>1</td>\n      <td>1</td>\n      <td>1</td>\n      <td>1</td>\n      <td>1</td>\n    </tr>\n    <tr>\n      <th>GarageType_Attchd</th>\n      <td>1</td>\n      <td>1</td>\n      <td>1</td>\n      <td>1</td>\n      <td>1</td>\n    </tr>\n    <tr>\n      <th>GarageType_Basment</th>\n      <td>0</td>\n      <td>0</td>\n      <td>0</td>\n      <td>0</td>\n      <td>0</td>\n    </tr>\n    <tr>\n      <th>GarageType_BuiltIn</th>\n      <td>0</td>\n      <td>0</td>\n      <td>0</td>\n      <td>0</td>\n      <td>0</td>\n    </tr>\n    <tr>\n      <th>GarageType_CarPort</th>\n      <td>0</td>\n      <td>0</td>\n      <td>0</td>\n      <td>0</td>\n      <td>0</td>\n    </tr>\n    <tr>\n      <th>GarageType_Detchd</th>\n      <td>0</td>\n      <td>0</td>\n      <td>0</td>\n      <td>0</td>\n      <td>0</td>\n    </tr>\n    <tr>\n      <th>GarageType_None</th>\n      <td>0</td>\n      <td>0</td>\n      <td>0</td>\n      <td>0</td>\n      <td>0</td>\n    </tr>\n    <tr>\n      <th>SaleType_CWD</th>\n      <td>0</td>\n      <td>0</td>\n      <td>0</td>\n      <td>0</td>\n      <td>0</td>\n    </tr>\n    <tr>\n      <th>SaleType_Con</th>\n      <td>0</td>\n      <td>0</td>\n      <td>0</td>\n      <td>0</td>\n      <td>0</td>\n    </tr>\n    <tr>\n      <th>SaleType_ConLD</th>\n      <td>0</td>\n      <td>0</td>\n      <td>0</td>\n      <td>0</td>\n      <td>0</td>\n    </tr>\n    <tr>\n      <th>SaleType_ConLI</th>\n      <td>0</td>\n      <td>0</td>\n      <td>0</td>\n      <td>0</td>\n      <td>0</td>\n    </tr>\n    <tr>\n      <th>SaleType_ConLw</th>\n      <td>0</td>\n      <td>0</td>\n      <td>0</td>\n      <td>0</td>\n      <td>0</td>\n    </tr>\n    <tr>\n      <th>SaleType_New</th>\n      <td>0</td>\n      <td>0</td>\n      <td>0</td>\n      <td>0</td>\n      <td>0</td>\n    </tr>\n    <tr>\n      <th>SaleType_None</th>\n      <td>0</td>\n      <td>0</td>\n      <td>0</td>\n      <td>0</td>\n      <td>0</td>\n    </tr>\n    <tr>\n      <th>SaleType_Oth</th>\n      <td>0</td>\n      <td>0</td>\n      <td>0</td>\n      <td>0</td>\n      <td>0</td>\n    </tr>\n    <tr>\n      <th>SaleType_WD</th>\n      <td>1</td>\n      <td>1</td>\n      <td>1</td>\n      <td>1</td>\n      <td>1</td>\n    </tr>\n    <tr>\n      <th>Condition1_Feedr</th>\n      <td>1</td>\n      <td>0</td>\n      <td>0</td>\n      <td>0</td>\n      <td>0</td>\n    </tr>\n    <tr>\n      <th>Condition1_Norm</th>\n      <td>0</td>\n      <td>1</td>\n      <td>1</td>\n      <td>1</td>\n      <td>1</td>\n    </tr>\n    <tr>\n      <th>Condition1_PosA</th>\n      <td>0</td>\n      <td>0</td>\n      <td>0</td>\n      <td>0</td>\n      <td>0</td>\n    </tr>\n    <tr>\n      <th>Condition1_PosN</th>\n      <td>0</td>\n      <td>0</td>\n      <td>0</td>\n      <td>0</td>\n      <td>0</td>\n    </tr>\n    <tr>\n      <th>Condition1_RRAe</th>\n      <td>0</td>\n      <td>0</td>\n      <td>0</td>\n      <td>0</td>\n      <td>0</td>\n    </tr>\n    <tr>\n      <th>Condition1_RRAn</th>\n      <td>0</td>\n      <td>0</td>\n      <td>0</td>\n      <td>0</td>\n      <td>0</td>\n    </tr>\n    <tr>\n      <th>Condition1_RRNe</th>\n      <td>0</td>\n      <td>0</td>\n      <td>0</td>\n      <td>0</td>\n      <td>0</td>\n    </tr>\n    <tr>\n      <th>Condition1_RRNn</th>\n      <td>0</td>\n      <td>0</td>\n      <td>0</td>\n      <td>0</td>\n      <td>0</td>\n    </tr>\n    <tr>\n      <th>Condition2_Feedr</th>\n      <td>0</td>\n      <td>0</td>\n      <td>0</td>\n      <td>0</td>\n      <td>0</td>\n    </tr>\n    <tr>\n      <th>Condition2_Norm</th>\n      <td>1</td>\n      <td>1</td>\n      <td>1</td>\n      <td>1</td>\n      <td>1</td>\n    </tr>\n    <tr>\n      <th>Condition2_PosA</th>\n      <td>0</td>\n      <td>0</td>\n      <td>0</td>\n      <td>0</td>\n      <td>0</td>\n    </tr>\n    <tr>\n      <th>Condition2_PosN</th>\n      <td>0</td>\n      <td>0</td>\n      <td>0</td>\n      <td>0</td>\n      <td>0</td>\n    </tr>\n    <tr>\n      <th>HouseStyle_1.5Unf</th>\n      <td>0</td>\n      <td>0</td>\n      <td>0</td>\n      <td>0</td>\n      <td>0</td>\n    </tr>\n    <tr>\n      <th>HouseStyle_1Story</th>\n      <td>1</td>\n      <td>1</td>\n      <td>0</td>\n      <td>0</td>\n      <td>1</td>\n    </tr>\n    <tr>\n      <th>HouseStyle_2.5Unf</th>\n      <td>0</td>\n      <td>0</td>\n      <td>0</td>\n      <td>0</td>\n      <td>0</td>\n    </tr>\n    <tr>\n      <th>HouseStyle_2Story</th>\n      <td>0</td>\n      <td>0</td>\n      <td>1</td>\n      <td>1</td>\n      <td>0</td>\n    </tr>\n    <tr>\n      <th>HouseStyle_SFoyer</th>\n      <td>0</td>\n      <td>0</td>\n      <td>0</td>\n      <td>0</td>\n      <td>0</td>\n    </tr>\n    <tr>\n      <th>HouseStyle_SLvl</th>\n      <td>0</td>\n      <td>0</td>\n      <td>0</td>\n      <td>0</td>\n      <td>0</td>\n    </tr>\n    <tr>\n      <th>BsmtFinType2_BLQ</th>\n      <td>0</td>\n      <td>0</td>\n      <td>0</td>\n      <td>0</td>\n      <td>0</td>\n    </tr>\n    <tr>\n      <th>BsmtFinType2_GLQ</th>\n      <td>0</td>\n      <td>0</td>\n      <td>0</td>\n      <td>0</td>\n      <td>0</td>\n    </tr>\n    <tr>\n      <th>BsmtFinType2_LwQ</th>\n      <td>1</td>\n      <td>0</td>\n      <td>0</td>\n      <td>0</td>\n      <td>0</td>\n    </tr>\n    <tr>\n      <th>BsmtFinType2_None</th>\n      <td>0</td>\n      <td>0</td>\n      <td>0</td>\n      <td>0</td>\n      <td>0</td>\n    </tr>\n    <tr>\n      <th>BsmtFinType2_Rec</th>\n      <td>0</td>\n      <td>0</td>\n      <td>0</td>\n      <td>0</td>\n      <td>0</td>\n    </tr>\n    <tr>\n      <th>BsmtFinType2_Unf</th>\n      <td>0</td>\n      <td>1</td>\n      <td>1</td>\n      <td>1</td>\n      <td>1</td>\n    </tr>\n    <tr>\n      <th>Functional_Maj2</th>\n      <td>0</td>\n      <td>0</td>\n      <td>0</td>\n      <td>0</td>\n      <td>0</td>\n    </tr>\n    <tr>\n      <th>Functional_Min1</th>\n      <td>0</td>\n      <td>0</td>\n      <td>0</td>\n      <td>0</td>\n      <td>0</td>\n    </tr>\n    <tr>\n      <th>Functional_Min2</th>\n      <td>0</td>\n      <td>0</td>\n      <td>0</td>\n      <td>0</td>\n      <td>0</td>\n    </tr>\n    <tr>\n      <th>Functional_Mod</th>\n      <td>0</td>\n      <td>0</td>\n      <td>0</td>\n      <td>0</td>\n      <td>0</td>\n    </tr>\n    <tr>\n      <th>Functional_None</th>\n      <td>0</td>\n      <td>0</td>\n      <td>0</td>\n      <td>0</td>\n      <td>0</td>\n    </tr>\n    <tr>\n      <th>Functional_Sev</th>\n      <td>0</td>\n      <td>0</td>\n      <td>0</td>\n      <td>0</td>\n      <td>0</td>\n    </tr>\n    <tr>\n      <th>Functional_Typ</th>\n      <td>1</td>\n      <td>1</td>\n      <td>1</td>\n      <td>1</td>\n      <td>1</td>\n    </tr>\n    <tr>\n      <th>SaleCondition_AdjLand</th>\n      <td>0</td>\n      <td>0</td>\n      <td>0</td>\n      <td>0</td>\n      <td>0</td>\n    </tr>\n    <tr>\n      <th>SaleCondition_Alloca</th>\n      <td>0</td>\n      <td>0</td>\n      <td>0</td>\n      <td>0</td>\n      <td>0</td>\n    </tr>\n    <tr>\n      <th>SaleCondition_Family</th>\n      <td>0</td>\n      <td>0</td>\n      <td>0</td>\n      <td>0</td>\n      <td>0</td>\n    </tr>\n    <tr>\n      <th>SaleCondition_Normal</th>\n      <td>1</td>\n      <td>1</td>\n      <td>1</td>\n      <td>1</td>\n      <td>1</td>\n    </tr>\n    <tr>\n      <th>SaleCondition_Partial</th>\n      <td>0</td>\n      <td>0</td>\n      <td>0</td>\n      <td>0</td>\n      <td>0</td>\n    </tr>\n    <tr>\n      <th>Foundation_CBlock</th>\n      <td>1</td>\n      <td>1</td>\n      <td>0</td>\n      <td>0</td>\n      <td>0</td>\n    </tr>\n    <tr>\n      <th>Foundation_PConc</th>\n      <td>0</td>\n      <td>0</td>\n      <td>1</td>\n      <td>1</td>\n      <td>1</td>\n    </tr>\n    <tr>\n      <th>Foundation_Slab</th>\n      <td>0</td>\n      <td>0</td>\n      <td>0</td>\n      <td>0</td>\n      <td>0</td>\n    </tr>\n    <tr>\n      <th>Foundation_Stone</th>\n      <td>0</td>\n      <td>0</td>\n      <td>0</td>\n      <td>0</td>\n      <td>0</td>\n    </tr>\n    <tr>\n      <th>Foundation_Wood</th>\n      <td>0</td>\n      <td>0</td>\n      <td>0</td>\n      <td>0</td>\n      <td>0</td>\n    </tr>\n    <tr>\n      <th>Heating_GasW</th>\n      <td>0</td>\n      <td>0</td>\n      <td>0</td>\n      <td>0</td>\n      <td>0</td>\n    </tr>\n    <tr>\n      <th>Heating_Grav</th>\n      <td>0</td>\n      <td>0</td>\n      <td>0</td>\n      <td>0</td>\n      <td>0</td>\n    </tr>\n    <tr>\n      <th>Heating_Wall</th>\n      <td>0</td>\n      <td>0</td>\n      <td>0</td>\n      <td>0</td>\n      <td>0</td>\n    </tr>\n    <tr>\n      <th>Fence_GdWo</th>\n      <td>0</td>\n      <td>0</td>\n      <td>0</td>\n      <td>0</td>\n      <td>0</td>\n    </tr>\n    <tr>\n      <th>Fence_MnPrv</th>\n      <td>1</td>\n      <td>0</td>\n      <td>1</td>\n      <td>0</td>\n      <td>0</td>\n    </tr>\n    <tr>\n      <th>Fence_MnWw</th>\n      <td>0</td>\n      <td>0</td>\n      <td>0</td>\n      <td>0</td>\n      <td>0</td>\n    </tr>\n    <tr>\n      <th>Fence_None</th>\n      <td>0</td>\n      <td>1</td>\n      <td>0</td>\n      <td>1</td>\n      <td>1</td>\n    </tr>\n    <tr>\n      <th>MiscFeature_None</th>\n      <td>1</td>\n      <td>0</td>\n      <td>1</td>\n      <td>1</td>\n      <td>1</td>\n    </tr>\n    <tr>\n      <th>MiscFeature_Othr</th>\n      <td>0</td>\n      <td>0</td>\n      <td>0</td>\n      <td>0</td>\n      <td>0</td>\n    </tr>\n    <tr>\n      <th>MiscFeature_Shed</th>\n      <td>0</td>\n      <td>0</td>\n      <td>0</td>\n      <td>0</td>\n      <td>0</td>\n    </tr>\n  </tbody>\n</table>\n</div>", 
                        "text/plain": "                             0      1      2     3     4\nId                        1461   1462   1463  1464  1465\nMSSubClass                  20     20     60    60   120\nLotFrontage                 80     81     74    78    43\nLotArea                  11622  14267  13830  9978  5005\nStreet                       1      1      1     1     1\nAlley                        1      1      1     1     1\nLandSlope                    0      0      0     0     0\nOverallQual                  5      6      5     6     8\nOverallCond                  6      6      5     6     5\nYearBuilt                 1961   1958   1997  1998  1992\nYearRemodAdd              1961   1958   1998  1998  1992\nMasVnrArea                   0    108      0    20     0\nExterQual                    3      3      3     3     2\nExterCond                    4      4      4     4     4\nBsmtQual                     4      4      2     4     2\nBsmtCond                     4      4      4     4     4\nBsmtFinSF1                 468    923    791   602   263\nBsmtFinSF2                 144      0      0     0     0\nBsmtUnfSF                  270    406    137   324  1017\nTotalBsmtSF                882   1329    928   926  1280\nHeatingQC                    4      4      2     0     0\nCentralAir                   1      1      1     1     1\n1stFlrSF                   896   1329    928   926  1280\n2ndFlrSF                     0      0    701   678     0\nLowQualFinSF                 0      0      0     0     0\nGrLivArea                  896   1329   1629  1604  1280\nBsmtFullBath                 0      0      0     0     0\nBsmtHalfBath                 0      0      0     0     0\nFullBath                     1      1      2     2     2\nHalfBath                     0      1      1     1     0\nBedroomAbvGr                 2      3      3     3     2\nKitchenAbvGr                 1      1      1     1     1\nKitchenQual                  3      2      3     2     2\nTotRmsAbvGrd                 5      6      6     7     5\nFireplaces                   0      0      1     1     0\nFireplaceQu                  3      3      5     2     3\nGarageYrBlt               1961   1958   1997  1998  1992\nGarageFinish                 3      3      0     0     2\nGarageCars                   1      1      2     2     2\nGarageArea                 730    312    482   470   506\nGarageQual                   4      4      4     4     4\nGarageCond                   5      5      5     5     5\nPavedDrive                   2      2      2     2     2\nWoodDeckSF                 140    393    212   360     0\nOpenPorchSF                  0     36     34    36    82\nEnclosedPorch                0      0      0     0     0\n3SsnPorch                    0      0      0     0     0\nScreenPorch                120      0      0     0   144\nPoolArea                     0      0      0     0     0\nPoolQC                       2      2      2     2     2\nMiscVal                      0  12500      0     0     0\nMoSold                       6      6      3     6     1\nYrSold                    2010   2010   2010  2010  2010\nDecadeBuilt               1960   1950   1990  1990  1990\nMSZoning_FV                  0      0      0     0     0\nMSZoning_None                0      0      0     0     0\nMSZoning_RH                  1      0      0     0     0\nMSZoning_RL                  0      1      1     1     1\nMSZoning_RM                  0      0      0     0     0\nLotShape_IR2                 0      0      0     0     0\nLotShape_IR3                 0      0      0     0     0\nLotShape_Reg                 1      0      0     0     0\nLandContour_HLS              0      0      0     0     1\nLandContour_Low              0      0      0     0     0\nLandContour_Lvl              1      1      1     1     0\nUtilities_NonPub             0      0      0     0     0\nLotConfig_CulDSac            0      0      0     0     0\nLotConfig_FR2                0      0      0     0     0\nLotConfig_FR3                0      0      0     0     0\nLotConfig_Inside             1      0      1     1     1\nNeighborhood_Blueste         0      0      0     0     0\nNeighborhood_BrDale          0      0      0     0     0\nNeighborhood_BrkSide         0      0      0     0     0\nNeighborhood_ClearCr         0      0      0     0     0\nNeighborhood_CollgCr         0      0      0     0     0\nNeighborhood_Crawfor         0      0      0     0     0\nNeighborhood_Edwards         0      0      0     0     0\nNeighborhood_Gilbert         0      0      1     1     0\nNeighborhood_IDOTRR          0      0      0     0     0\nNeighborhood_MeadowV         0      0      0     0     0\nNeighborhood_Mitchel         0      0      0     0     0\nNeighborhood_NAmes           1      1      0     0     0\nNeighborhood_NPkVill         0      0      0     0     0\nNeighborhood_NWAmes          0      0      0     0     0\nNeighborhood_NoRidge         0      0      0     0     0\nNeighborhood_NridgHt         0      0      0     0     0\nNeighborhood_OldTown         0      0      0     0     0\nNeighborhood_SWISU           0      0      0     0     0\nNeighborhood_Sawyer          0      0      0     0     0\nNeighborhood_SawyerW         0      0      0     0     0\nNeighborhood_Somerst         0      0      0     0     0\nNeighborhood_StoneBr         0      0      0     0     1\nNeighborhood_Timber          0      0      0     0     0\nNeighborhood_Veenker         0      0      0     0     0\nBldgType_2fmCon              0      0      0     0     0\nBldgType_Duplex              0      0      0     0     0\nBldgType_Twnhs               0      0      0     0     0\nBldgType_TwnhsE              0      0      0     0     1\nRoofStyle_Gable              1      0      1     1     1\nRoofStyle_Gambrel            0      0      0     0     0\nRoofStyle_Hip                0      1      0     0     0\nRoofStyle_Mansard            0      0      0     0     0\nRoofStyle_Shed               0      0      0     0     0\nRoofMatl_Tar&Grv             0      0      0     0     0\nRoofMatl_WdShake             0      0      0     0     0\nRoofMatl_WdShngl             0      0      0     0     0\nExterior1st_AsphShn          0      0      0     0     0\nExterior1st_BrkComm          0      0      0     0     0\nExterior1st_BrkFace          0      0      0     0     0\nExterior1st_CBlock           0      0      0     0     0\nExterior1st_CemntBd          0      0      0     0     0\nExterior1st_HdBoard          0      0      0     0     1\nExterior1st_MetalSd          0      0      0     0     0\nExterior1st_Plywood          0      0      0     0     0\nExterior1st_Stucco           0      0      0     0     0\nExterior1st_Unknown          0      0      0     0     0\nExterior1st_VinylSd          1      0      1     1     0\nExterior1st_Wd Sdng          0      1      0     0     0\nExterior1st_WdShing          0      0      0     0     0\nExterior2nd_AsphShn          0      0      0     0     0\nExterior2nd_Brk Cmn          0      0      0     0     0\nExterior2nd_BrkFace          0      0      0     0     0\nExterior2nd_CBlock           0      0      0     0     0\nExterior2nd_CmentBd          0      0      0     0     0\nExterior2nd_Exterior2nd      0      0      0     0     0\nExterior2nd_HdBoard          0      0      0     0     1\nExterior2nd_ImStucc          0      0      0     0     0\nExterior2nd_MetalSd          0      0      0     0     0\nExterior2nd_Plywood          0      0      0     0     0\nExterior2nd_Stone            0      0      0     0     0\nExterior2nd_Stucco           0      0      0     0     0\nExterior2nd_VinylSd          1      0      1     1     0\nExterior2nd_Wd Sdng          0      1      0     0     0\nExterior2nd_Wd Shng          0      0      0     0     0\nMasVnrType_BrkFace           0      1      0     1     0\nMasVnrType_None              1      0      1     0     1\nMasVnrType_Stone             0      0      0     0     0\nBsmtExposure_1               0      0      0     0     0\nBsmtExposure_2               0      0      0     0     0\nBsmtExposure_3               1      1      1     1     1\nBsmtFinType1_BLQ             0      0      0     0     0\nBsmtFinType1_GLQ             0      0      1     1     0\nBsmtFinType1_LwQ             0      0      0     0     0\nBsmtFinType1_None            0      0      0     0     0\nBsmtFinType1_Rec             1      0      0     0     0\nBsmtFinType1_Unf             0      0      0     0     0\nHeating_GasW                 0      0      0     0     0\nHeating_Grav                 0      0      0     0     0\nHeating_Wall                 0      0      0     0     0\nElectrical_FuseF             0      0      0     0     0\nElectrical_FuseP             0      0      0     0     0\nElectrical_SBrkr             1      1      1     1     1\nGarageType_Attchd            1      1      1     1     1\nGarageType_Basment           0      0      0     0     0\nGarageType_BuiltIn           0      0      0     0     0\nGarageType_CarPort           0      0      0     0     0\nGarageType_Detchd            0      0      0     0     0\nGarageType_None              0      0      0     0     0\nSaleType_CWD                 0      0      0     0     0\nSaleType_Con                 0      0      0     0     0\nSaleType_ConLD               0      0      0     0     0\nSaleType_ConLI               0      0      0     0     0\nSaleType_ConLw               0      0      0     0     0\nSaleType_New                 0      0      0     0     0\nSaleType_None                0      0      0     0     0\nSaleType_Oth                 0      0      0     0     0\nSaleType_WD                  1      1      1     1     1\nCondition1_Feedr             1      0      0     0     0\nCondition1_Norm              0      1      1     1     1\nCondition1_PosA              0      0      0     0     0\nCondition1_PosN              0      0      0     0     0\nCondition1_RRAe              0      0      0     0     0\nCondition1_RRAn              0      0      0     0     0\nCondition1_RRNe              0      0      0     0     0\nCondition1_RRNn              0      0      0     0     0\nCondition2_Feedr             0      0      0     0     0\nCondition2_Norm              1      1      1     1     1\nCondition2_PosA              0      0      0     0     0\nCondition2_PosN              0      0      0     0     0\nHouseStyle_1.5Unf            0      0      0     0     0\nHouseStyle_1Story            1      1      0     0     1\nHouseStyle_2.5Unf            0      0      0     0     0\nHouseStyle_2Story            0      0      1     1     0\nHouseStyle_SFoyer            0      0      0     0     0\nHouseStyle_SLvl              0      0      0     0     0\nBsmtFinType2_BLQ             0      0      0     0     0\nBsmtFinType2_GLQ             0      0      0     0     0\nBsmtFinType2_LwQ             1      0      0     0     0\nBsmtFinType2_None            0      0      0     0     0\nBsmtFinType2_Rec             0      0      0     0     0\nBsmtFinType2_Unf             0      1      1     1     1\nFunctional_Maj2              0      0      0     0     0\nFunctional_Min1              0      0      0     0     0\nFunctional_Min2              0      0      0     0     0\nFunctional_Mod               0      0      0     0     0\nFunctional_None              0      0      0     0     0\nFunctional_Sev               0      0      0     0     0\nFunctional_Typ               1      1      1     1     1\nSaleCondition_AdjLand        0      0      0     0     0\nSaleCondition_Alloca         0      0      0     0     0\nSaleCondition_Family         0      0      0     0     0\nSaleCondition_Normal         1      1      1     1     1\nSaleCondition_Partial        0      0      0     0     0\nFoundation_CBlock            1      1      0     0     0\nFoundation_PConc             0      0      1     1     1\nFoundation_Slab              0      0      0     0     0\nFoundation_Stone             0      0      0     0     0\nFoundation_Wood              0      0      0     0     0\nHeating_GasW                 0      0      0     0     0\nHeating_Grav                 0      0      0     0     0\nHeating_Wall                 0      0      0     0     0\nFence_GdWo                   0      0      0     0     0\nFence_MnPrv                  1      0      1     0     0\nFence_MnWw                   0      0      0     0     0\nFence_None                   0      1      0     1     1\nMiscFeature_None             1      0      1     1     1\nMiscFeature_Othr             0      0      0     0     0\nMiscFeature_Shed             0      0      0     0     0"
                    }, 
                    "metadata": {}
                }
            ], 
            "source": "display_all(dummy_df.head().transpose())"
        }, 
        {
            "execution_count": 122, 
            "cell_type": "code", 
            "metadata": {}, 
            "outputs": [
                {
                    "execution_count": 122, 
                    "metadata": {}, 
                    "data": {
                        "text/plain": "{'asset_id': 'a2460d11-2f84-42f8-9790-24da3ec3cd3d',\n 'bucket_name': 'housepricesadvancedregressiontech-donotdelete-pr-xspbt29nepkblo',\n 'file_name': 'clean_test.csv',\n 'message': 'File saved to project storage.'}"
                    }, 
                    "output_type": "execute_result"
                }
            ], 
            "source": "# Save dataframe as csv file to storage\nproject.save_data(data=dummy_df.to_csv(index=False),file_name='clean_test.csv',overwrite=True)"
        }, 
        {
            "execution_count": null, 
            "cell_type": "code", 
            "metadata": {}, 
            "outputs": [], 
            "source": ""
        }
    ], 
    "metadata": {
        "kernelspec": {
            "display_name": "Python 3.5", 
            "name": "python3", 
            "language": "python"
        }, 
        "language_info": {
            "mimetype": "text/x-python", 
            "nbconvert_exporter": "python", 
            "version": "3.5.5", 
            "name": "python", 
            "file_extension": ".py", 
            "pygments_lexer": "ipython3", 
            "codemirror_mode": {
                "version": 3, 
                "name": "ipython"
            }
        }
    }, 
    "nbformat": 4
}