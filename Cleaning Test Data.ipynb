{
    "nbformat_minor": 1, 
    "cells": [
        {
            "source": "# Cleaning the Test Data", 
            "cell_type": "markdown", 
            "metadata": {
                "collapsed": true
            }
        }, 
        {
            "source": "- I'm just going to quick clean up the test data that same way I did for the training data to be used later to make my predictions and submissiions. ", 
            "cell_type": "markdown", 
            "metadata": {}
        }, 
        {
            "execution_count": 1, 
            "cell_type": "code", 
            "metadata": {}, 
            "outputs": [], 
            "source": "# The code was removed by Watson Studio for sharing."
        }, 
        {
            "execution_count": 2, 
            "cell_type": "code", 
            "metadata": {}, 
            "outputs": [], 
            "source": "import pandas as pd\nfrom pandas.api.types import is_string_dtype, is_numeric_dtype\nimport numpy as np\nimport matplotlib.pyplot as plt\nimport seaborn as sns\nfrom scipy.stats import norm\nfrom scipy import stats\nfrom sklearn.preprocessing import LabelEncoder, OneHotEncoder\n\nimport warnings\nimport types\nfrom ibm_botocore.client import Config\nimport ibm_boto3\n\nwarnings.filterwarnings('ignore')\n\n%matplotlib inline"
        }, 
        {
            "execution_count": 3, 
            "cell_type": "code", 
            "metadata": {}, 
            "outputs": [
                {
                    "execution_count": 3, 
                    "metadata": {}, 
                    "data": {
                        "text/html": "<div>\n<style scoped>\n    .dataframe tbody tr th:only-of-type {\n        vertical-align: middle;\n    }\n\n    .dataframe tbody tr th {\n        vertical-align: top;\n    }\n\n    .dataframe thead th {\n        text-align: right;\n    }\n</style>\n<table border=\"1\" class=\"dataframe\">\n  <thead>\n    <tr style=\"text-align: right;\">\n      <th></th>\n      <th>Id</th>\n      <th>MSSubClass</th>\n      <th>MSZoning</th>\n      <th>LotFrontage</th>\n      <th>LotArea</th>\n      <th>Street</th>\n      <th>Alley</th>\n      <th>LotShape</th>\n      <th>LandContour</th>\n      <th>Utilities</th>\n      <th>...</th>\n      <th>ScreenPorch</th>\n      <th>PoolArea</th>\n      <th>PoolQC</th>\n      <th>Fence</th>\n      <th>MiscFeature</th>\n      <th>MiscVal</th>\n      <th>MoSold</th>\n      <th>YrSold</th>\n      <th>SaleType</th>\n      <th>SaleCondition</th>\n    </tr>\n  </thead>\n  <tbody>\n    <tr>\n      <th>0</th>\n      <td>1461</td>\n      <td>20</td>\n      <td>RH</td>\n      <td>80.0</td>\n      <td>11622</td>\n      <td>Pave</td>\n      <td>NaN</td>\n      <td>Reg</td>\n      <td>Lvl</td>\n      <td>AllPub</td>\n      <td>...</td>\n      <td>120</td>\n      <td>0</td>\n      <td>NaN</td>\n      <td>MnPrv</td>\n      <td>NaN</td>\n      <td>0</td>\n      <td>6</td>\n      <td>2010</td>\n      <td>WD</td>\n      <td>Normal</td>\n    </tr>\n    <tr>\n      <th>1</th>\n      <td>1462</td>\n      <td>20</td>\n      <td>RL</td>\n      <td>81.0</td>\n      <td>14267</td>\n      <td>Pave</td>\n      <td>NaN</td>\n      <td>IR1</td>\n      <td>Lvl</td>\n      <td>AllPub</td>\n      <td>...</td>\n      <td>0</td>\n      <td>0</td>\n      <td>NaN</td>\n      <td>NaN</td>\n      <td>Gar2</td>\n      <td>12500</td>\n      <td>6</td>\n      <td>2010</td>\n      <td>WD</td>\n      <td>Normal</td>\n    </tr>\n    <tr>\n      <th>2</th>\n      <td>1463</td>\n      <td>60</td>\n      <td>RL</td>\n      <td>74.0</td>\n      <td>13830</td>\n      <td>Pave</td>\n      <td>NaN</td>\n      <td>IR1</td>\n      <td>Lvl</td>\n      <td>AllPub</td>\n      <td>...</td>\n      <td>0</td>\n      <td>0</td>\n      <td>NaN</td>\n      <td>MnPrv</td>\n      <td>NaN</td>\n      <td>0</td>\n      <td>3</td>\n      <td>2010</td>\n      <td>WD</td>\n      <td>Normal</td>\n    </tr>\n    <tr>\n      <th>3</th>\n      <td>1464</td>\n      <td>60</td>\n      <td>RL</td>\n      <td>78.0</td>\n      <td>9978</td>\n      <td>Pave</td>\n      <td>NaN</td>\n      <td>IR1</td>\n      <td>Lvl</td>\n      <td>AllPub</td>\n      <td>...</td>\n      <td>0</td>\n      <td>0</td>\n      <td>NaN</td>\n      <td>NaN</td>\n      <td>NaN</td>\n      <td>0</td>\n      <td>6</td>\n      <td>2010</td>\n      <td>WD</td>\n      <td>Normal</td>\n    </tr>\n    <tr>\n      <th>4</th>\n      <td>1465</td>\n      <td>120</td>\n      <td>RL</td>\n      <td>43.0</td>\n      <td>5005</td>\n      <td>Pave</td>\n      <td>NaN</td>\n      <td>IR1</td>\n      <td>HLS</td>\n      <td>AllPub</td>\n      <td>...</td>\n      <td>144</td>\n      <td>0</td>\n      <td>NaN</td>\n      <td>NaN</td>\n      <td>NaN</td>\n      <td>0</td>\n      <td>1</td>\n      <td>2010</td>\n      <td>WD</td>\n      <td>Normal</td>\n    </tr>\n  </tbody>\n</table>\n<p>5 rows \u00d7 80 columns</p>\n</div>", 
                        "text/plain": "     Id  MSSubClass MSZoning  LotFrontage  LotArea Street Alley LotShape  \\\n0  1461          20       RH         80.0    11622   Pave   NaN      Reg   \n1  1462          20       RL         81.0    14267   Pave   NaN      IR1   \n2  1463          60       RL         74.0    13830   Pave   NaN      IR1   \n3  1464          60       RL         78.0     9978   Pave   NaN      IR1   \n4  1465         120       RL         43.0     5005   Pave   NaN      IR1   \n\n  LandContour Utilities      ...       ScreenPorch PoolArea PoolQC  Fence  \\\n0         Lvl    AllPub      ...               120        0    NaN  MnPrv   \n1         Lvl    AllPub      ...                 0        0    NaN    NaN   \n2         Lvl    AllPub      ...                 0        0    NaN  MnPrv   \n3         Lvl    AllPub      ...                 0        0    NaN    NaN   \n4         HLS    AllPub      ...               144        0    NaN    NaN   \n\n  MiscFeature MiscVal MoSold  YrSold  SaleType  SaleCondition  \n0         NaN       0      6    2010        WD         Normal  \n1        Gar2   12500      6    2010        WD         Normal  \n2         NaN       0      3    2010        WD         Normal  \n3         NaN       0      6    2010        WD         Normal  \n4         NaN       0      1    2010        WD         Normal  \n\n[5 rows x 80 columns]"
                    }, 
                    "output_type": "execute_result"
                }
            ], 
            "source": "# The code was removed by Watson Studio for sharing."
        }, 
        {
            "execution_count": 4, 
            "cell_type": "code", 
            "metadata": {}, 
            "outputs": [
                {
                    "execution_count": 4, 
                    "metadata": {}, 
                    "data": {
                        "text/plain": "(1459, 80)"
                    }, 
                    "output_type": "execute_result"
                }
            ], 
            "source": "df.shape"
        }, 
        {
            "execution_count": 5, 
            "cell_type": "code", 
            "metadata": {}, 
            "outputs": [], 
            "source": "# Change YearBuilt into decades in order to plot it out easier\n\ndef construction_decade(row):\n    if row['YearBuilt'] >= 1870 and row['YearBuilt'] < 1880:\n        return '1870'\n    elif row['YearBuilt'] >= 1880 and row['YearBuilt'] < 1890:\n        return '1880'\n    elif row['YearBuilt'] >= 1890 and row['YearBuilt'] < 1900:\n        return '1890'\n    elif row['YearBuilt'] >= 1900 and row['YearBuilt'] < 1910:\n        return '1900'\n    elif row['YearBuilt'] >= 1910 and row['YearBuilt'] < 1920:\n        return '1910'\n    elif row['YearBuilt'] >= 1920 and row['YearBuilt'] < 1930:\n        return '1920'\n    elif row['YearBuilt'] >= 1930 and row['YearBuilt'] < 1940:\n        return '1930'\n    elif row['YearBuilt'] >= 1940 and row['YearBuilt'] < 1950:\n        return '1940'\n    elif row['YearBuilt'] >= 1950 and row['YearBuilt'] < 1960:\n        return '1950'\n    elif row['YearBuilt'] >= 1960 and row['YearBuilt'] < 1970:\n        return '1960'\n    elif row['YearBuilt'] >= 1970 and row['YearBuilt'] < 1980:\n        return '1970'\n    elif row['YearBuilt'] >= 1980 and row['YearBuilt'] < 1990:\n        return '1980'\n    elif row['YearBuilt'] >= 1990 and row['YearBuilt'] < 2000:\n        return '1990'\n    elif row['YearBuilt'] >= 2000 and row['YearBuilt']:\n        return '2000'\n    else:\n        return '0'\n    \ndf['DecadeBuilt'] = df.apply(lambda row: construction_decade(row), axis=1)"
        }, 
        {
            "execution_count": 6, 
            "cell_type": "code", 
            "metadata": {}, 
            "outputs": [
                {
                    "execution_count": 6, 
                    "metadata": {}, 
                    "data": {
                        "text/plain": "0    1960\n1    1950\n2    1990\n3    1990\n4    1990\nName: DecadeBuilt, dtype: object"
                    }, 
                    "output_type": "execute_result"
                }
            ], 
            "source": "df['DecadeBuilt'].head()"
        }, 
        {
            "source": "## Fix Any Missing Data", 
            "cell_type": "markdown", 
            "metadata": {}
        }, 
        {
            "execution_count": 9, 
            "cell_type": "code", 
            "metadata": {}, 
            "outputs": [
                {
                    "execution_count": 9, 
                    "metadata": {}, 
                    "data": {
                        "text/html": "<div>\n<style scoped>\n    .dataframe tbody tr th:only-of-type {\n        vertical-align: middle;\n    }\n\n    .dataframe tbody tr th {\n        vertical-align: top;\n    }\n\n    .dataframe thead th {\n        text-align: right;\n    }\n</style>\n<table border=\"1\" class=\"dataframe\">\n  <thead>\n    <tr style=\"text-align: right;\">\n      <th></th>\n      <th>Total</th>\n      <th>Percent</th>\n    </tr>\n  </thead>\n  <tbody>\n    <tr>\n      <th>PoolQC</th>\n      <td>1456</td>\n      <td>0.997944</td>\n    </tr>\n    <tr>\n      <th>MiscFeature</th>\n      <td>1408</td>\n      <td>0.965045</td>\n    </tr>\n    <tr>\n      <th>Alley</th>\n      <td>1352</td>\n      <td>0.926662</td>\n    </tr>\n    <tr>\n      <th>Fence</th>\n      <td>1169</td>\n      <td>0.801234</td>\n    </tr>\n    <tr>\n      <th>FireplaceQu</th>\n      <td>730</td>\n      <td>0.500343</td>\n    </tr>\n    <tr>\n      <th>LotFrontage</th>\n      <td>227</td>\n      <td>0.155586</td>\n    </tr>\n    <tr>\n      <th>GarageFinish</th>\n      <td>78</td>\n      <td>0.053461</td>\n    </tr>\n    <tr>\n      <th>GarageYrBlt</th>\n      <td>78</td>\n      <td>0.053461</td>\n    </tr>\n    <tr>\n      <th>GarageCond</th>\n      <td>78</td>\n      <td>0.053461</td>\n    </tr>\n    <tr>\n      <th>GarageQual</th>\n      <td>78</td>\n      <td>0.053461</td>\n    </tr>\n    <tr>\n      <th>GarageType</th>\n      <td>76</td>\n      <td>0.052090</td>\n    </tr>\n    <tr>\n      <th>BsmtCond</th>\n      <td>45</td>\n      <td>0.030843</td>\n    </tr>\n    <tr>\n      <th>BsmtQual</th>\n      <td>44</td>\n      <td>0.030158</td>\n    </tr>\n    <tr>\n      <th>BsmtExposure</th>\n      <td>44</td>\n      <td>0.030158</td>\n    </tr>\n    <tr>\n      <th>BsmtFinType2</th>\n      <td>42</td>\n      <td>0.028787</td>\n    </tr>\n    <tr>\n      <th>BsmtFinType1</th>\n      <td>42</td>\n      <td>0.028787</td>\n    </tr>\n    <tr>\n      <th>MasVnrType</th>\n      <td>16</td>\n      <td>0.010966</td>\n    </tr>\n    <tr>\n      <th>MasVnrArea</th>\n      <td>15</td>\n      <td>0.010281</td>\n    </tr>\n    <tr>\n      <th>MSZoning</th>\n      <td>4</td>\n      <td>0.002742</td>\n    </tr>\n    <tr>\n      <th>BsmtHalfBath</th>\n      <td>2</td>\n      <td>0.001371</td>\n    </tr>\n  </tbody>\n</table>\n</div>", 
                        "text/plain": "              Total   Percent\nPoolQC         1456  0.997944\nMiscFeature    1408  0.965045\nAlley          1352  0.926662\nFence          1169  0.801234\nFireplaceQu     730  0.500343\nLotFrontage     227  0.155586\nGarageFinish     78  0.053461\nGarageYrBlt      78  0.053461\nGarageCond       78  0.053461\nGarageQual       78  0.053461\nGarageType       76  0.052090\nBsmtCond         45  0.030843\nBsmtQual         44  0.030158\nBsmtExposure     44  0.030158\nBsmtFinType2     42  0.028787\nBsmtFinType1     42  0.028787\nMasVnrType       16  0.010966\nMasVnrArea       15  0.010281\nMSZoning          4  0.002742\nBsmtHalfBath      2  0.001371"
                    }, 
                    "output_type": "execute_result"
                }
            ], 
            "source": "# Find the percentage of missing values in each column\ntotal = df.isnull().sum().sort_values(ascending=False)\npercent = (df.isnull().sum()/df.isnull().count()).sort_values(ascending=False)\nmissing_data = pd.concat([total, percent], axis=1, keys=['Total', 'Percent'])\nmissing_data.head(20)"
        }, 
        {
            "execution_count": 13, 
            "cell_type": "code", 
            "metadata": {}, 
            "outputs": [
                {
                    "execution_count": 13, 
                    "metadata": {}, 
                    "data": {
                        "text/plain": "0      0\n1    108\n2      0\n3     20\n4      0\nName: MasVnrArea, dtype: int64"
                    }, 
                    "output_type": "execute_result"
                }
            ], 
            "source": "# Fill in NaN values with \"None\" od \"0\"\ndf['PoolQC'].fillna('None', inplace=True)\ndf['MiscFeature'].fillna('None', inplace=True)\ndf['Alley'].fillna('None', inplace=True)\ndf['Fence'].fillna('None', inplace=True)\ndf['FireplaceQu'].fillna('None', inplace=True)\ndf['GarageYrBlt'].fillna('0', inplace=True)\ndf['BsmtExposure'].fillna('No', inplace=True)\ndf['MasVnrArea'].fillna('0', inplace=True)\ndf['MasVnrType'].fillna('None', inplace=True)\ndf['MasVnrArea'].astype('int', inplace=True).head()"
        }, 
        {
            "execution_count": 11, 
            "cell_type": "code", 
            "metadata": {}, 
            "outputs": [], 
            "source": "# All NAN values in these 4 garage variables infers there is no garage. Change NAN to None. \nfor col in ('GarageQual', 'GarageType', 'GarageCond', 'GarageFinish', 'GarageType'):\n    df[col] = df[col].fillna('None')\n    \n# Basement variables with 'NAN' most likey don't have basements. Change NAN to None.\nfor col in ('BsmtFinType2','BsmtQual','BsmtCond','BsmtFinType1'):\n    df[col] = df[col].fillna('None')"
        }, 
        {
            "execution_count": 12, 
            "cell_type": "code", 
            "metadata": {}, 
            "outputs": [], 
            "source": "# NA values must be actual missing data. Group by neighborhood and impute the median LotFrontage.\ndf['LotFrontage'] = df.groupby('Neighborhood')['LotFrontage'].transform(lambda x: x.fillna(x.median()))\n\n# Fill the missing value with the mode.\ndf['Electrical'].fillna(df['Electrical'].mode()[0], inplace=True)"
        }, 
        {
            "execution_count": 16, 
            "cell_type": "code", 
            "metadata": {}, 
            "outputs": [
                {
                    "execution_count": 16, 
                    "metadata": {}, 
                    "data": {
                        "text/html": "<div>\n<style scoped>\n    .dataframe tbody tr th:only-of-type {\n        vertical-align: middle;\n    }\n\n    .dataframe tbody tr th {\n        vertical-align: top;\n    }\n\n    .dataframe thead th {\n        text-align: right;\n    }\n</style>\n<table border=\"1\" class=\"dataframe\">\n  <thead>\n    <tr style=\"text-align: right;\">\n      <th></th>\n      <th>Total</th>\n      <th>Percent</th>\n    </tr>\n  </thead>\n  <tbody>\n    <tr>\n      <th>MSZoning</th>\n      <td>4</td>\n      <td>0.002742</td>\n    </tr>\n    <tr>\n      <th>Functional</th>\n      <td>2</td>\n      <td>0.001371</td>\n    </tr>\n    <tr>\n      <th>Utilities</th>\n      <td>2</td>\n      <td>0.001371</td>\n    </tr>\n    <tr>\n      <th>BsmtHalfBath</th>\n      <td>2</td>\n      <td>0.001371</td>\n    </tr>\n    <tr>\n      <th>BsmtFullBath</th>\n      <td>2</td>\n      <td>0.001371</td>\n    </tr>\n    <tr>\n      <th>KitchenQual</th>\n      <td>1</td>\n      <td>0.000685</td>\n    </tr>\n    <tr>\n      <th>BsmtFinSF1</th>\n      <td>1</td>\n      <td>0.000685</td>\n    </tr>\n    <tr>\n      <th>Exterior1st</th>\n      <td>1</td>\n      <td>0.000685</td>\n    </tr>\n    <tr>\n      <th>Exterior2nd</th>\n      <td>1</td>\n      <td>0.000685</td>\n    </tr>\n    <tr>\n      <th>GarageCars</th>\n      <td>1</td>\n      <td>0.000685</td>\n    </tr>\n    <tr>\n      <th>GarageArea</th>\n      <td>1</td>\n      <td>0.000685</td>\n    </tr>\n    <tr>\n      <th>BsmtFinSF2</th>\n      <td>1</td>\n      <td>0.000685</td>\n    </tr>\n    <tr>\n      <th>TotalBsmtSF</th>\n      <td>1</td>\n      <td>0.000685</td>\n    </tr>\n    <tr>\n      <th>BsmtUnfSF</th>\n      <td>1</td>\n      <td>0.000685</td>\n    </tr>\n    <tr>\n      <th>SaleType</th>\n      <td>1</td>\n      <td>0.000685</td>\n    </tr>\n    <tr>\n      <th>ExterCond</th>\n      <td>0</td>\n      <td>0.000000</td>\n    </tr>\n    <tr>\n      <th>RoofStyle</th>\n      <td>0</td>\n      <td>0.000000</td>\n    </tr>\n    <tr>\n      <th>MasVnrArea</th>\n      <td>0</td>\n      <td>0.000000</td>\n    </tr>\n    <tr>\n      <th>Foundation</th>\n      <td>0</td>\n      <td>0.000000</td>\n    </tr>\n    <tr>\n      <th>BsmtQual</th>\n      <td>0</td>\n      <td>0.000000</td>\n    </tr>\n  </tbody>\n</table>\n</div>", 
                        "text/plain": "              Total   Percent\nMSZoning          4  0.002742\nFunctional        2  0.001371\nUtilities         2  0.001371\nBsmtHalfBath      2  0.001371\nBsmtFullBath      2  0.001371\nKitchenQual       1  0.000685\nBsmtFinSF1        1  0.000685\nExterior1st       1  0.000685\nExterior2nd       1  0.000685\nGarageCars        1  0.000685\nGarageArea        1  0.000685\nBsmtFinSF2        1  0.000685\nTotalBsmtSF       1  0.000685\nBsmtUnfSF         1  0.000685\nSaleType          1  0.000685\nExterCond         0  0.000000\nRoofStyle         0  0.000000\nMasVnrArea        0  0.000000\nFoundation        0  0.000000\nBsmtQual          0  0.000000"
                    }, 
                    "output_type": "execute_result"
                }
            ], 
            "source": "# Check to make sure there are no missing values left.\ntotal = df.isnull().sum().sort_values(ascending=False)\npercent = (df.isnull().sum()/df.isnull().count()).sort_values(ascending=False)\nmissing_data = pd.concat([total, percent], axis=1, keys=['Total', 'Percent'])\nmissing_data.head(20)"
        }, 
        {
            "source": "### There are 15 more columns with NaN values in the Test data then there was in the Training data. I'll have to go through all of these columns now.", 
            "cell_type": "markdown", 
            "metadata": {}
        }, 
        {
            "source": "#### MSZoning", 
            "cell_type": "markdown", 
            "metadata": {}
        }, 
        {
            "execution_count": 17, 
            "cell_type": "code", 
            "metadata": {}, 
            "outputs": [
                {
                    "execution_count": 17, 
                    "metadata": {}, 
                    "data": {
                        "text/plain": "array(['RH', 'RL', 'RM', 'FV', 'C (all)', nan], dtype=object)"
                    }, 
                    "output_type": "execute_result"
                }
            ], 
            "source": "# Find the unique values\ndf['MSZoning'].unique()"
        }, 
        {
            "execution_count": 18, 
            "cell_type": "code", 
            "metadata": {}, 
            "outputs": [], 
            "source": "# Fill in NaN values with \"None\"\ndf['MSZoning'].fillna('None', inplace=True)"
        }, 
        {
            "execution_count": 19, 
            "cell_type": "code", 
            "metadata": {}, 
            "outputs": [
                {
                    "execution_count": 19, 
                    "metadata": {}, 
                    "data": {
                        "text/plain": "array(['RH', 'RL', 'RM', 'FV', 'C (all)', 'None'], dtype=object)"
                    }, 
                    "output_type": "execute_result"
                }
            ], 
            "source": "# Check\ndf['MSZoning'].unique()"
        }, 
        {
            "source": "#### Functional", 
            "cell_type": "markdown", 
            "metadata": {}
        }, 
        {
            "execution_count": 20, 
            "cell_type": "code", 
            "metadata": {}, 
            "outputs": [
                {
                    "execution_count": 20, 
                    "metadata": {}, 
                    "data": {
                        "text/plain": "array(['Typ', 'Min2', 'Min1', 'Mod', 'Maj1', 'Sev', 'Maj2', nan], dtype=object)"
                    }, 
                    "output_type": "execute_result"
                }
            ], 
            "source": "df['Functional'].unique()"
        }, 
        {
            "execution_count": 21, 
            "cell_type": "code", 
            "metadata": {}, 
            "outputs": [], 
            "source": "# Fill NaN with \"None\"\ndf['Functional'].fillna('None', inplace=True)"
        }, 
        {
            "execution_count": 22, 
            "cell_type": "code", 
            "metadata": {}, 
            "outputs": [
                {
                    "execution_count": 22, 
                    "metadata": {}, 
                    "data": {
                        "text/plain": "array(['Typ', 'Min2', 'Min1', 'Mod', 'Maj1', 'Sev', 'Maj2', 'None'], dtype=object)"
                    }, 
                    "output_type": "execute_result"
                }
            ], 
            "source": "#Check\ndf['Functional'].unique()"
        }, 
        {
            "source": "#### Utilities", 
            "cell_type": "markdown", 
            "metadata": {}
        }, 
        {
            "execution_count": 23, 
            "cell_type": "code", 
            "metadata": {}, 
            "outputs": [
                {
                    "execution_count": 23, 
                    "metadata": {}, 
                    "data": {
                        "text/plain": "array(['AllPub', nan], dtype=object)"
                    }, 
                    "output_type": "execute_result"
                }
            ], 
            "source": "df['Utilities'].unique()"
        }, 
        {
            "execution_count": 24, 
            "cell_type": "code", 
            "metadata": {}, 
            "outputs": [], 
            "source": "# Fill NaN with 'NonPub'\ndf['Utilities'].fillna('NonPub', inplace=True)"
        }, 
        {
            "execution_count": 25, 
            "cell_type": "code", 
            "metadata": {}, 
            "outputs": [
                {
                    "execution_count": 25, 
                    "metadata": {}, 
                    "data": {
                        "text/plain": "array(['AllPub', 'NonPub'], dtype=object)"
                    }, 
                    "output_type": "execute_result"
                }
            ], 
            "source": "# Check.\ndf['Utilities'].unique()"
        }, 
        {
            "execution_count": null, 
            "cell_type": "code", 
            "metadata": {}, 
            "outputs": [], 
            "source": ""
        }
    ], 
    "metadata": {
        "kernelspec": {
            "display_name": "Python 3.5", 
            "name": "python3", 
            "language": "python"
        }, 
        "language_info": {
            "mimetype": "text/x-python", 
            "nbconvert_exporter": "python", 
            "version": "3.5.5", 
            "name": "python", 
            "file_extension": ".py", 
            "pygments_lexer": "ipython3", 
            "codemirror_mode": {
                "version": 3, 
                "name": "ipython"
            }
        }
    }, 
    "nbformat": 4
}